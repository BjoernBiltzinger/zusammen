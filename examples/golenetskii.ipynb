{
 "cells": [
  {
   "cell_type": "markdown",
   "metadata": {},
   "source": [
    "# Simulating the Golenetskii correlation with popsynth"
   ]
  },
  {
   "cell_type": "code",
   "execution_count": 1,
   "metadata": {
    "ExecuteTime": {
     "end_time": "2020-05-30T12:06:15.203392Z",
     "start_time": "2020-05-30T12:06:11.363719Z"
    }
   },
   "outputs": [
    {
     "name": "stderr",
     "output_type": "stream",
     "text": [
      "/Users/fran/.virtualenvs/grb/lib/python3.7/site-packages/popsynth/distribution.py:8: TqdmExperimentalWarning: Using `tqdm.autonotebook.tqdm` in notebook mode. Use `tqdm.tqdm` instead to force console mode (e.g. in jupyter console)\n",
      "  from tqdm.autonotebook import tqdm as progress_bar\n"
     ]
    }
   ],
   "source": [
    "import numpy as np\n",
    "import matplotlib.pyplot as plt\n",
    "import networkx as nx\n",
    "\n",
    "import popsynth\n",
    "from popsynth.aux_samplers.trunc_normal_aux_sampler import TruncatedNormalAuxSampler\n",
    "from popsynth.aux_samplers.lognormal_aux_sampler import LogNormalAuxSampler"
   ]
  },
  {
   "cell_type": "markdown",
   "metadata": {},
   "source": [
    "## GRB population"
   ]
  },
  {
   "cell_type": "code",
   "execution_count": 2,
   "metadata": {
    "ExecuteTime": {
     "end_time": "2020-05-30T12:06:15.211357Z",
     "start_time": "2020-05-30T12:06:15.205948Z"
    }
   },
   "outputs": [],
   "source": [
    "# redshift distribution\n",
    "r0_true = 1. #1/20.\n",
    "rise_true = 1.\n",
    "decay_true = 4.0\n",
    "peak_true = 1.5\n",
    "\n",
    "# luminosity function\n",
    "Lmin_true = 1e51\n",
    "alpha_true = 1.5\n",
    "r_max = 7.0\n",
    "\n",
    "\n",
    "pop_gen = popsynth.populations.ParetoSFRPopulation(\n",
    "    r0=r0_true,\n",
    "    rise=rise_true,\n",
    "    decay=decay_true,\n",
    "    peak=peak_true,\n",
    "    Lmin=Lmin_true,\n",
    "    alpha=alpha_true,\n",
    "    r_max=r_max,\n",
    ")"
   ]
  },
  {
   "cell_type": "markdown",
   "metadata": {},
   "source": [
    "## Auxiliary samplers"
   ]
  },
  {
   "cell_type": "code",
   "execution_count": 3,
   "metadata": {
    "ExecuteTime": {
     "end_time": "2020-05-30T12:06:16.006640Z",
     "start_time": "2020-05-30T12:06:15.994978Z"
    }
   },
   "outputs": [],
   "source": [
    "from aux_samplers import TDecaySampler, DurationSampler, LumSampler"
   ]
  },
  {
   "cell_type": "code",
   "execution_count": 4,
   "metadata": {
    "ExecuteTime": {
     "end_time": "2020-05-30T12:06:18.410116Z",
     "start_time": "2020-05-30T12:06:18.403080Z"
    }
   },
   "outputs": [],
   "source": [
    "trise = TruncatedNormalAuxSampler(name=\"trise\", observed=False)\n",
    "trise.lower=0.01\n",
    "trise.upper=5.0\n",
    "trise.mu=1\n",
    "trise.tau=1.0\n",
    "\n",
    "t90 = LogNormalAuxSampler(name=\"log_t90\", observed=False)\n",
    "t90.mu=10\n",
    "t90.tau=0.25\n",
    "\n",
    "Epeak = LogNormalAuxSampler(name=\"Epeak\", observed=False)\n",
    "Epeak.mu=300\n",
    "Epeak.tau=0.4\n",
    "\n",
    "tdecay = TDecaySampler()\n",
    "duration = DurationSampler()\n",
    "luminosity = LumSampler()\n",
    "\n",
    "tdecay.set_secondary_sampler(t90)\n",
    "tdecay.set_secondary_sampler(trise)\n",
    "duration.set_secondary_sampler(t90)\n",
    "luminosity.set_secondary_sampler(Epeak)"
   ]
  },
  {
   "cell_type": "code",
   "execution_count": 5,
   "metadata": {
    "ExecuteTime": {
     "end_time": "2020-05-30T12:06:19.166334Z",
     "start_time": "2020-05-30T12:06:19.162015Z"
    }
   },
   "outputs": [
    {
     "name": "stdout",
     "output_type": "stream",
     "text": [
      "registering auxilary sampler: tdecay\n",
      "registering auxilary sampler: duration\n",
      "registering derived luminosity sampler: luminosity\n"
     ]
    }
   ],
   "source": [
    "pop_gen.add_observed_quantity(tdecay)\n",
    "pop_gen.add_observed_quantity(duration)\n",
    "pop_gen.add_observed_quantity(luminosity)"
   ]
  },
  {
   "cell_type": "markdown",
   "metadata": {},
   "source": [
    "## Survey"
   ]
  },
  {
   "cell_type": "code",
   "execution_count": 6,
   "metadata": {
    "ExecuteTime": {
     "end_time": "2020-05-30T12:06:22.371360Z",
     "start_time": "2020-05-30T12:06:20.021856Z"
    }
   },
   "outputs": [
    {
     "name": "stdout",
     "output_type": "stream",
     "text": [
      "The volume integral is 38.111186\n"
     ]
    },
    {
     "data": {
      "application/vnd.jupyter.widget-view+json": {
       "model_id": "f4fe7a1678b54c2dac8afa69bb73da82",
       "version_major": 2,
       "version_minor": 0
      },
      "text/plain": [
       "HBox(children=(FloatProgress(value=0.0, description='Drawing distances', max=32.0, style=ProgressStyle(descrip…"
      ]
     },
     "metadata": {},
     "output_type": "display_data"
    },
    {
     "name": "stdout",
     "output_type": "stream",
     "text": [
      "\n",
      "Expecting 32 total objects\n",
      "Sampling: luminosity\n",
      "luminosity is sampling its secondary quantities\n",
      "Sampling: Epeak\n",
      "Getting luminosity from derived sampler\n",
      "Sampling: tdecay\n",
      "tdecay is sampling its secondary quantities\n",
      "Sampling: log_t90\n",
      "Sampling: trise\n",
      "Sampling: duration\n",
      "duration is sampling its secondary quantities\n",
      "Applying soft boundary\n"
     ]
    },
    {
     "data": {
      "application/vnd.jupyter.widget-view+json": {
       "model_id": "44b1e45cf600478dbd1abb50a52b272f",
       "version_major": 2,
       "version_minor": 0
      },
      "text/plain": [
       "HBox(children=(FloatProgress(value=0.0, description='samping detection probability', max=32.0, style=ProgressS…"
      ]
     },
     "metadata": {},
     "output_type": "display_data"
    },
    {
     "name": "stdout",
     "output_type": "stream",
     "text": [
      "\n",
      "No Selection! Added back all objects\n",
      "NO HIDDEN OBJECTS\n",
      "Deteced 32 objects or to a distance of 3.08\n"
     ]
    }
   ],
   "source": [
    "population = pop_gen.draw_survey(no_selection=True, boundary=1e-2)"
   ]
  },
  {
   "cell_type": "code",
   "execution_count": 8,
   "metadata": {
    "ExecuteTime": {
     "end_time": "2020-05-30T12:06:31.647101Z",
     "start_time": "2020-05-30T12:06:30.692155Z"
    }
   },
   "outputs": [
    {
     "data": {
      "text/plain": [
       "Text(0, 0.5, '$L$ (erg/s)')"
      ]
     },
     "execution_count": 8,
     "metadata": {},
     "output_type": "execute_result"
    },
    {
     "data": {
      "image/png": "[encoded data removed]",
      "text/plain": [
       "<Figure size 432x288 with 1 Axes>"
      ]
     },
     "metadata": {
      "needs_background": "light"
     },
     "output_type": "display_data"
    }
   ],
   "source": [
    "fig, ax = plt.subplots()\n",
    "Egrid = 10**np.linspace(1, 4)\n",
    "\n",
    "ax.scatter(10**population.Epeak, population.luminosities)\n",
    "ax.plot(Egrid, 1e52 * np.power(Egrid/100, 1.5))\n",
    "ax.set_xscale('log')\n",
    "ax.set_yscale('log')\n",
    "ax.set_xlabel('$E_\\mathrm{peak}^\\mathrm{rest}$ (keV)')\n",
    "ax.set_ylabel('$L$ (erg/s)')"
   ]
  },
  {
   "cell_type": "code",
   "execution_count": 9,
   "metadata": {
    "ExecuteTime": {
     "end_time": "2020-05-30T12:06:33.431068Z",
     "start_time": "2020-05-30T12:06:32.683277Z"
    }
   },
   "outputs": [
    {
     "data": {
      "text/plain": [
       "Text(0, 0.5, '$F_E$ (erg $\\\\mathrm{s}^{-1}$ $\\\\mathrm{cm}^{-2}$)')"
      ]
     },
     "execution_count": 9,
     "metadata": {},
     "output_type": "execute_result"
    },
    {
     "data": {
      "image/png": "[encoded data removed]",
      "text/plain": [
       "<Figure size 432x288 with 1 Axes>"
      ]
     },
     "metadata": {
      "needs_background": "light"
     },
     "output_type": "display_data"
    }
   ],
   "source": [
    "fig, ax = plt.subplots()\n",
    "ax.scatter(population.Epeak_obs, population.flux_observed_all)\n",
    "ax.set_xscale('log')\n",
    "ax.set_yscale('log')\n",
    "ax.set_xlabel('$E_\\mathrm{peak}^\\mathrm{obs}$ (keV)')\n",
    "ax.set_ylabel('$F_E$ (erg $\\mathrm{s}^{-1}$ $\\mathrm{cm}^{-2}$)')"
   ]
  },
  {
   "cell_type": "code",
   "execution_count": 10,
   "metadata": {
    "ExecuteTime": {
     "end_time": "2020-05-30T12:06:34.394993Z",
     "start_time": "2020-05-30T12:06:34.139171Z"
    }
   },
   "outputs": [
    {
     "data": {
      "image/png": "[encoded data removed]",
      "text/plain": [
       "<Figure size 432x288 with 1 Axes>"
      ]
     },
     "metadata": {},
     "output_type": "display_data"
    }
   ],
   "source": [
    "# Graph needs fixing for L-dependence\n",
    "pos=nx.drawing.nx_agraph.graphviz_layout(pop_gen.graph, prog='dot')\n",
    "\n",
    "nx.draw(pop_gen.graph, with_labels=True,pos=pos)"
   ]
  },
  {
   "cell_type": "code",
   "execution_count": null,
   "metadata": {},
   "outputs": [],
   "source": []
  }
 ],
 "metadata": {
  "kernelspec": {
   "display_name": "grb",
   "language": "python",
   "name": "grb"
  },
  "language_info": {
   "codemirror_mode": {
    "name": "ipython",
    "version": 3
   },
   "file_extension": ".py",
   "mimetype": "text/x-python",
   "name": "python",
   "nbconvert_exporter": "python",
   "pygments_lexer": "ipython3",
   "version": "3.7.6"
  }
 },
 "nbformat": 4,
 "nbformat_minor": 2
}
