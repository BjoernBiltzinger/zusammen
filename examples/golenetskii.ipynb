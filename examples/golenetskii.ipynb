{
 "cells": [
  {
   "cell_type": "markdown",
   "metadata": {},
   "source": [
    "# Simulating the Golenetskii correlation with popsynth"
   ]
  },
  {
   "cell_type": "code",
   "execution_count": 1,
   "metadata": {
    "ExecuteTime": {
     "end_time": "2020-05-28T09:51:30.700986Z",
     "start_time": "2020-05-28T09:51:28.362715Z"
    }
   },
   "outputs": [
    {
     "name": "stderr",
     "output_type": "stream",
     "text": [
      "/Users/fran/.virtualenvs/grb/lib/python3.7/site-packages/popsynth/distribution.py:8: TqdmExperimentalWarning: Using `tqdm.autonotebook.tqdm` in notebook mode. Use `tqdm.tqdm` instead to force console mode (e.g. in jupyter console)\n",
      "  from tqdm.autonotebook import tqdm as progress_bar\n"
     ]
    }
   ],
   "source": [
    "import numpy as np\n",
    "import matplotlib.pyplot as plt\n",
    "import networkx as nx\n",
    "\n",
    "import popsynth\n",
    "from popsynth.aux_samplers.trunc_normal_aux_sampler import TruncatedNormalAuxSampler\n",
    "from popsynth.aux_samplers.lognormal_aux_sampler import LogNormalAuxSampler"
   ]
  },
  {
   "cell_type": "markdown",
   "metadata": {},
   "source": [
    "## GRB population"
   ]
  },
  {
   "cell_type": "code",
   "execution_count": 2,
   "metadata": {
    "ExecuteTime": {
     "end_time": "2020-05-28T09:51:30.708478Z",
     "start_time": "2020-05-28T09:51:30.703432Z"
    }
   },
   "outputs": [],
   "source": [
    "# redshift distribution\n",
    "r0_true = 1.\n",
    "rise_true = 1.\n",
    "decay_true = 4.0\n",
    "peak_true = 1.5\n",
    "\n",
    "# luminosity function\n",
    "Lmin_true = 1e51\n",
    "alpha_true = 1.5\n",
    "r_max = 7.0\n",
    "\n",
    "\n",
    "pop_gen = popsynth.populations.ParetoSFRPopulation(\n",
    "    r0=r0_true,\n",
    "    rise=rise_true,\n",
    "    decay=decay_true,\n",
    "    peak=peak_true,\n",
    "    Lmin=Lmin_true,\n",
    "    alpha=alpha_true,\n",
    "    r_max=r_max,\n",
    ")"
   ]
  },
  {
   "cell_type": "code",
   "execution_count": 3,
   "metadata": {
    "ExecuteTime": {
     "end_time": "2020-05-28T09:51:31.300528Z",
     "start_time": "2020-05-28T09:51:31.275330Z"
    }
   },
   "outputs": [
    {
     "data": {
      "text/markdown": [
       "## Luminosity Function"
      ],
      "text/plain": [
       "<IPython.core.display.Markdown object>"
      ]
     },
     "metadata": {},
     "output_type": "display_data"
    },
    {
     "data": {
      "text/latex": [
       "$\\displaystyle \\frac{\\alpha L_{\\rm min}^{\\alpha}}{L^{\\alpha+1}}$"
      ],
      "text/plain": [
       "<IPython.core.display.Math object>"
      ]
     },
     "metadata": {},
     "output_type": "display_data"
    },
    {
     "data": {
      "text/html": [
       "<div>\n",
       "<style scoped>\n",
       "    .dataframe tbody tr th:only-of-type {\n",
       "        vertical-align: middle;\n",
       "    }\n",
       "\n",
       "    .dataframe tbody tr th {\n",
       "        vertical-align: top;\n",
       "    }\n",
       "\n",
       "    .dataframe thead th {\n",
       "        text-align: right;\n",
       "    }\n",
       "</style>\n",
       "<table border=\"1\" class=\"dataframe\">\n",
       "  <thead>\n",
       "    <tr style=\"text-align: right;\">\n",
       "      <th></th>\n",
       "      <th>parameter</th>\n",
       "      <th>value</th>\n",
       "    </tr>\n",
       "  </thead>\n",
       "  <tbody>\n",
       "    <tr>\n",
       "      <th>0</th>\n",
       "      <td>Lmin</td>\n",
       "      <td>1.000000e+51</td>\n",
       "    </tr>\n",
       "    <tr>\n",
       "      <th>1</th>\n",
       "      <td>alpha</td>\n",
       "      <td>1.500000e+00</td>\n",
       "    </tr>\n",
       "  </tbody>\n",
       "</table>\n",
       "</div>"
      ],
      "text/plain": [
       "  parameter         value\n",
       "0      Lmin  1.000000e+51\n",
       "1     alpha  1.500000e+00"
      ]
     },
     "metadata": {},
     "output_type": "display_data"
    },
    {
     "data": {
      "text/markdown": [
       "## Spatial Function"
      ],
      "text/plain": [
       "<IPython.core.display.Markdown object>"
      ]
     },
     "metadata": {},
     "output_type": "display_data"
    },
    {
     "data": {
      "text/latex": [
       "$\\displaystyle \\rho_0 \\frac{1+r \\cdot z}{1+ \\left(z/p\\right)^d}$"
      ],
      "text/plain": [
       "<IPython.core.display.Math object>"
      ]
     },
     "metadata": {},
     "output_type": "display_data"
    },
    {
     "data": {
      "text/html": [
       "<div>\n",
       "<style scoped>\n",
       "    .dataframe tbody tr th:only-of-type {\n",
       "        vertical-align: middle;\n",
       "    }\n",
       "\n",
       "    .dataframe tbody tr th {\n",
       "        vertical-align: top;\n",
       "    }\n",
       "\n",
       "    .dataframe thead th {\n",
       "        text-align: right;\n",
       "    }\n",
       "</style>\n",
       "<table border=\"1\" class=\"dataframe\">\n",
       "  <thead>\n",
       "    <tr style=\"text-align: right;\">\n",
       "      <th></th>\n",
       "      <th>parameter</th>\n",
       "      <th>value</th>\n",
       "    </tr>\n",
       "  </thead>\n",
       "  <tbody>\n",
       "    <tr>\n",
       "      <th>0</th>\n",
       "      <td>r0</td>\n",
       "      <td>1.0</td>\n",
       "    </tr>\n",
       "    <tr>\n",
       "      <th>1</th>\n",
       "      <td>rise</td>\n",
       "      <td>1.0</td>\n",
       "    </tr>\n",
       "    <tr>\n",
       "      <th>2</th>\n",
       "      <td>decay</td>\n",
       "      <td>4.0</td>\n",
       "    </tr>\n",
       "    <tr>\n",
       "      <th>3</th>\n",
       "      <td>peak</td>\n",
       "      <td>1.5</td>\n",
       "    </tr>\n",
       "    <tr>\n",
       "      <th>4</th>\n",
       "      <td>r_max</td>\n",
       "      <td>7.0</td>\n",
       "    </tr>\n",
       "  </tbody>\n",
       "</table>\n",
       "</div>"
      ],
      "text/plain": [
       "  parameter  value\n",
       "0        r0    1.0\n",
       "1      rise    1.0\n",
       "2     decay    4.0\n",
       "3      peak    1.5\n",
       "4     r_max    7.0"
      ]
     },
     "metadata": {},
     "output_type": "display_data"
    }
   ],
   "source": [
    "pop_gen.display()"
   ]
  },
  {
   "cell_type": "markdown",
   "metadata": {},
   "source": [
    "## Auxiliary samplers"
   ]
  },
  {
   "cell_type": "code",
   "execution_count": 4,
   "metadata": {
    "ExecuteTime": {
     "end_time": "2020-05-28T09:51:32.664653Z",
     "start_time": "2020-05-28T09:51:32.649966Z"
    }
   },
   "outputs": [],
   "source": [
    "class TDecaySampler(popsynth.AuxiliarySampler):\n",
    "    \n",
    "    sigma = popsynth.auxiliary_sampler.AuxiliaryParameter(default=1)\n",
    "    \n",
    "    def __init__(self):\n",
    "        \"\"\"\n",
    "        samples the decay of the of the pulse\n",
    "        \"\"\"\n",
    "\n",
    "        super(TDecaySampler, self).__init__(name=\"tdecay\", observed=False)\n",
    "\n",
    "    def true_sampler(self, size):\n",
    "\n",
    "        t90 = 10 ** self._secondary_samplers[\"log_t90\"].true_values\n",
    "        trise = self._secondary_samplers[\"trise\"].true_values\n",
    "\n",
    "        self._true_values = (\n",
    "            1.0 / 50.0 * (10 * t90 + trise + np.sqrt(trise) * np.sqrt(20 * t90 + trise))\n",
    "        )\n",
    "\n",
    "\n",
    "class DurationSampler(popsynth.AuxiliarySampler):\n",
    "\n",
    "    sigma = popsynth.auxiliary_sampler.AuxiliaryParameter(default=1)\n",
    "    \n",
    "    def __init__(self):\n",
    "        \"\"\"\n",
    "        samples how long the pulse lasts\n",
    "        \"\"\"\n",
    "\n",
    "        super(DurationSampler, self).__init__(\n",
    "            name=\"duration\", observed=False\n",
    "        )\n",
    "\n",
    "    def true_sampler(self, size):\n",
    "\n",
    "        t90 = 10 ** self._secondary_samplers[\"log_t90\"].true_values\n",
    "\n",
    "        self._true_values = 1.5 * t90\n",
    "        \n",
    "        \n",
    "class EpeakSampler(popsynth.AuxiliarySampler):\n",
    "    \"\"\"\n",
    "    Samples Epeak for a given L\n",
    "    \"\"\"\n",
    "    \n",
    "    Nrest = popsynth.auxiliary_sampler.AuxiliaryParameter(default=1e52)\n",
    "    gamma = popsynth.auxiliary_sampler.AuxiliaryParameter(default=1.5, vmin=0)\n",
    "    s_scat = popsynth.auxiliary_sampler.AuxiliaryParameter(default=0.1)\n",
    "    \n",
    "    s_det = popsynth.auxiliary_sampler.AuxiliaryParameter(default=0.1)\n",
    "    \n",
    "    def __init__(self):\n",
    "        \n",
    "        super(EpeakSampler, self).__init__('Epeak', \n",
    "                                           observed=True, \n",
    "                                           uses_luminosity=True, \n",
    "                                           uses_distance=True)\n",
    "        \n",
    "    def true_sampler(self, size):\n",
    "        \n",
    "        index = (np.log10(self._luminosity) - np.log10(self.Nrest)) / self.gamma\n",
    "        Ep = np.power(10, index) * 100 # keV\n",
    "        \n",
    "        s = np.random.normal(0, self.s_scat*Ep, size)\n",
    "\n",
    "        self._true_values = Ep + s\n",
    "        \n",
    "    def observation_sampler(self, size):\n",
    "        \n",
    "        Ep_obs = self._true_values / (1 + self._distance)\n",
    "\n",
    "        s = np.random.normal(0, self.s_det*self._true_values, size)\n",
    "        \n",
    "        self._obs_values = Ep_obs + s"
   ]
  },
  {
   "cell_type": "code",
   "execution_count": 5,
   "metadata": {
    "ExecuteTime": {
     "end_time": "2020-05-28T09:51:33.223765Z",
     "start_time": "2020-05-28T09:51:33.217986Z"
    }
   },
   "outputs": [],
   "source": [
    "trise = TruncatedNormalAuxSampler(name=\"trise\", observed=False)\n",
    "trise.lower=0.01\n",
    "trise.upper=5.0\n",
    "trise.mu=1\n",
    "trise.tau=1.0\n",
    "\n",
    "t90 = LogNormalAuxSampler(name=\"log_t90\", observed=False)\n",
    "t90.mu=10\n",
    "t90.tau=0.25\n",
    "\n",
    "tdecay = TDecaySampler()\n",
    "duration = DurationSampler()\n",
    "tdecay.set_secondary_sampler(t90)\n",
    "tdecay.set_secondary_sampler(trise)\n",
    "duration.set_secondary_sampler(t90)\n",
    "\n",
    "Epeak = EpeakSampler()"
   ]
  },
  {
   "cell_type": "code",
   "execution_count": 6,
   "metadata": {
    "ExecuteTime": {
     "end_time": "2020-05-28T09:51:33.702557Z",
     "start_time": "2020-05-28T09:51:33.698502Z"
    }
   },
   "outputs": [
    {
     "name": "stdout",
     "output_type": "stream",
     "text": [
      "registering auxilary sampler: tdecay\n",
      "registering auxilary sampler: duration\n",
      "registering auxilary sampler: Epeak\n"
     ]
    }
   ],
   "source": [
    "pop_gen.add_observed_quantity(tdecay)\n",
    "pop_gen.add_observed_quantity(duration)\n",
    "pop_gen.add_observed_quantity(Epeak)"
   ]
  },
  {
   "cell_type": "markdown",
   "metadata": {},
   "source": [
    "## Survey"
   ]
  },
  {
   "cell_type": "code",
   "execution_count": 7,
   "metadata": {
    "ExecuteTime": {
     "end_time": "2020-05-28T09:51:37.224852Z",
     "start_time": "2020-05-28T09:51:34.884312Z"
    }
   },
   "outputs": [
    {
     "name": "stdout",
     "output_type": "stream",
     "text": [
      "The volume integral is 38.111186\n"
     ]
    },
    {
     "data": {
      "application/vnd.jupyter.widget-view+json": {
       "model_id": "ec0a41347db045a6bba03e1e0f7ea9e2",
       "version_major": 2,
       "version_minor": 0
      },
      "text/plain": [
       "HBox(children=(FloatProgress(value=0.0, description='Drawing distances', max=32.0, style=ProgressStyle(descrip…"
      ]
     },
     "metadata": {},
     "output_type": "display_data"
    },
    {
     "name": "stdout",
     "output_type": "stream",
     "text": [
      "\n",
      "Expecting 32 total objects\n",
      "Sampling: tdecay\n",
      "tdecay is sampling its secondary quantities\n",
      "Sampling: log_t90\n",
      "Sampling: trise\n",
      "Sampling: duration\n",
      "duration is sampling its secondary quantities\n",
      "Sampling: Epeak\n",
      "Applying soft boundary\n"
     ]
    },
    {
     "data": {
      "application/vnd.jupyter.widget-view+json": {
       "model_id": "42dea76528124022b6f9989f5a5020d6",
       "version_major": 2,
       "version_minor": 0
      },
      "text/plain": [
       "HBox(children=(FloatProgress(value=0.0, description='samping detection probability', max=32.0, style=ProgressS…"
      ]
     },
     "metadata": {},
     "output_type": "display_data"
    },
    {
     "name": "stdout",
     "output_type": "stream",
     "text": [
      "\n",
      "No Selection! Added back all objects\n",
      "NO HIDDEN OBJECTS\n",
      "Deteced 32 objects or to a distance of 3.08\n"
     ]
    }
   ],
   "source": [
    "population = pop_gen.draw_survey(no_selection=True, boundary=1e-2)"
   ]
  },
  {
   "cell_type": "code",
   "execution_count": 8,
   "metadata": {
    "ExecuteTime": {
     "end_time": "2020-05-28T09:51:44.066066Z",
     "start_time": "2020-05-28T09:51:43.363161Z"
    }
   },
   "outputs": [
    {
     "data": {
      "text/plain": [
       "Text(0, 0.5, '$L$ (erg/s)')"
      ]
     },
     "execution_count": 8,
     "metadata": {},
     "output_type": "execute_result"
    },
    {
     "data": {
      "image/png": "[encoded data removed]",
      "text/plain": [
       "<Figure size 432x288 with 1 Axes>"
      ]
     },
     "metadata": {
      "needs_background": "light"
     },
     "output_type": "display_data"
    }
   ],
   "source": [
    "fig, ax = plt.subplots()\n",
    "\n",
    "ax.scatter(population.Epeak, population.luminosities)\n",
    "ax.set_xscale('log')\n",
    "ax.set_yscale('log')\n",
    "ax.set_xlabel('$E_\\mathrm{peak}^\\mathrm{rest}$ (keV)')\n",
    "ax.set_ylabel('$L$ (erg/s)')"
   ]
  },
  {
   "cell_type": "code",
   "execution_count": 9,
   "metadata": {
    "ExecuteTime": {
     "end_time": "2020-05-28T09:51:44.680519Z",
     "start_time": "2020-05-28T09:51:44.068617Z"
    }
   },
   "outputs": [
    {
     "data": {
      "text/plain": [
       "Text(0, 0.5, '$F_E$ (erg $\\\\mathrm{s}^{-1}$ $\\\\mathrm{cm}^{-2}$)')"
      ]
     },
     "execution_count": 9,
     "metadata": {},
     "output_type": "execute_result"
    },
    {
     "data": {
      "image/png": "[encoded data removed]",
      "text/plain": [
       "<Figure size 432x288 with 1 Axes>"
      ]
     },
     "metadata": {
      "needs_background": "light"
     },
     "output_type": "display_data"
    }
   ],
   "source": [
    "fig, ax = plt.subplots()\n",
    "ax.scatter(population.Epeak_obs, population.flux_observed_all)\n",
    "ax.set_xscale('log')\n",
    "ax.set_yscale('log')\n",
    "ax.set_xlabel('$E_\\mathrm{peak}^\\mathrm{obs}$ (keV)')\n",
    "ax.set_ylabel('$F_E$ (erg $\\mathrm{s}^{-1}$ $\\mathrm{cm}^{-2}$)')"
   ]
  },
  {
   "cell_type": "code",
   "execution_count": 10,
   "metadata": {
    "ExecuteTime": {
     "end_time": "2020-05-28T09:51:45.713465Z",
     "start_time": "2020-05-28T09:51:45.234741Z"
    }
   },
   "outputs": [
    {
     "data": {
      "image/png": "[encoded data removed]",
      "text/plain": [
       "<Figure size 432x288 with 1 Axes>"
      ]
     },
     "metadata": {},
     "output_type": "display_data"
    }
   ],
   "source": [
    "# Graph needs fixing for L-dependence\n",
    "pos=nx.drawing.nx_agraph.graphviz_layout(pop_gen.graph, prog='dot')\n",
    "\n",
    "nx.draw(pop_gen.graph, with_labels=True,pos=pos)"
   ]
  },
  {
   "cell_type": "code",
   "execution_count": null,
   "metadata": {},
   "outputs": [],
   "source": []
  }
 ],
 "metadata": {
  "kernelspec": {
   "display_name": "grb",
   "language": "python",
   "name": "grb"
  },
  "language_info": {
   "codemirror_mode": {
    "name": "ipython",
    "version": 3
   },
   "file_extension": ".py",
   "mimetype": "text/x-python",
   "name": "python",
   "nbconvert_exporter": "python",
   "pygments_lexer": "ipython3",
   "version": "3.7.6"
  }
 },
 "nbformat": 4,
 "nbformat_minor": 2
}
