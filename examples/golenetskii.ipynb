{
 "cells": [
  {
   "cell_type": "markdown",
   "metadata": {},
   "source": [
    "# Simulating the Golenetskii correlation with popsynth"
   ]
  },
  {
   "cell_type": "code",
   "execution_count": 1,
   "metadata": {
    "ExecuteTime": {
     "end_time": "2020-06-01T18:17:14.349457Z",
     "start_time": "2020-06-01T18:17:10.645325Z"
    }
   },
   "outputs": [
    {
     "name": "stderr",
     "output_type": "stream",
     "text": [
      "/Users/fran/.virtualenvs/grb/lib/python3.7/site-packages/popsynth/distribution.py:8: TqdmExperimentalWarning: Using `tqdm.autonotebook.tqdm` in notebook mode. Use `tqdm.tqdm` instead to force console mode (e.g. in jupyter console)\n",
      "  from tqdm.autonotebook import tqdm as progress_bar\n"
     ]
    }
   ],
   "source": [
    "import numpy as np\n",
    "import matplotlib.pyplot as plt\n",
    "import networkx as nx\n",
    "\n",
    "import popsynth\n",
    "from popsynth.aux_samplers.trunc_normal_aux_sampler import TruncatedNormalAuxSampler\n",
    "from popsynth.aux_samplers.lognormal_aux_sampler import LogNormalAuxSampler"
   ]
  },
  {
   "cell_type": "markdown",
   "metadata": {},
   "source": [
    "## GRB population"
   ]
  },
  {
   "cell_type": "code",
   "execution_count": 2,
   "metadata": {
    "ExecuteTime": {
     "end_time": "2020-06-01T18:17:14.356691Z",
     "start_time": "2020-06-01T18:17:14.352185Z"
    }
   },
   "outputs": [],
   "source": [
    "# redshift distribution\n",
    "r0_true = 1. #1/20.\n",
    "rise_true = 1.\n",
    "decay_true = 4.0\n",
    "peak_true = 1.5\n",
    "r_max = 7.0\n",
    "\n",
    "\n",
    "pop_gen = popsynth.populations.SFRPopulation(\n",
    "    r0=r0_true,\n",
    "    rise=rise_true,\n",
    "    decay=decay_true,\n",
    "    peak=peak_true,\n",
    "    r_max=r_max,\n",
    ")"
   ]
  },
  {
   "cell_type": "markdown",
   "metadata": {},
   "source": [
    "## Auxiliary samplers"
   ]
  },
  {
   "cell_type": "code",
   "execution_count": 3,
   "metadata": {
    "ExecuteTime": {
     "end_time": "2020-06-01T18:17:15.682204Z",
     "start_time": "2020-06-01T18:17:15.676025Z"
    }
   },
   "outputs": [],
   "source": [
    "from aux_samplers import DurationSampler, EpeakObsSampler, LumSampler"
   ]
  },
  {
   "cell_type": "code",
   "execution_count": 4,
   "metadata": {
    "ExecuteTime": {
     "end_time": "2020-06-01T18:17:16.990281Z",
     "start_time": "2020-06-01T18:17:16.984620Z"
    }
   },
   "outputs": [],
   "source": [
    "t90 = LogNormalAuxSampler(name=\"log_t90\", observed=False)\n",
    "t90.mu=10\n",
    "t90.tau=0.25\n",
    "\n",
    "log_ep = LogNormalAuxSampler(name=\"log_ep\", observed=False)\n",
    "log_ep.mu=300\n",
    "log_ep.tau=0.4\n",
    "\n",
    "duration = DurationSampler()\n",
    "obs_lum = LumSampler()\n",
    "log_ep_obs = EpeakObsSampler()\n",
    "duration.set_secondary_sampler(t90)\n",
    "obs_lum.set_secondary_sampler(log_ep)\n",
    "log_ep_obs.set_secondary_sampler(log_ep)"
   ]
  },
  {
   "cell_type": "code",
   "execution_count": 5,
   "metadata": {
    "ExecuteTime": {
     "end_time": "2020-06-01T18:17:17.563831Z",
     "start_time": "2020-06-01T18:17:17.560106Z"
    }
   },
   "outputs": [
    {
     "name": "stdout",
     "output_type": "stream",
     "text": [
      "registering auxilary sampler: duration\n",
      "registering derived luminosity sampler: obs_lum\n",
      "registering auxilary sampler: log_ep_obs\n"
     ]
    }
   ],
   "source": [
    "pop_gen.add_observed_quantity(duration)\n",
    "pop_gen.add_observed_quantity(obs_lum)\n",
    "pop_gen.add_observed_quantity(log_ep_obs)"
   ]
  },
  {
   "cell_type": "markdown",
   "metadata": {},
   "source": [
    "## Survey"
   ]
  },
  {
   "cell_type": "code",
   "execution_count": 6,
   "metadata": {
    "ExecuteTime": {
     "end_time": "2020-06-01T18:17:22.033295Z",
     "start_time": "2020-06-01T18:17:19.657360Z"
    }
   },
   "outputs": [
    {
     "name": "stdout",
     "output_type": "stream",
     "text": [
      "The volume integral is 38.111186\n"
     ]
    },
    {
     "data": {
      "application/vnd.jupyter.widget-view+json": {
       "model_id": "82ad5ff64d6041b1afc923b7a1050c81",
       "version_major": 2,
       "version_minor": 0
      },
      "text/plain": [
       "HBox(children=(FloatProgress(value=0.0, description='Drawing distances', max=32.0, style=ProgressStyle(descrip…"
      ]
     },
     "metadata": {},
     "output_type": "display_data"
    },
    {
     "name": "stdout",
     "output_type": "stream",
     "text": [
      "\n",
      "Expecting 32 total objects\n",
      "Sampling: obs_lum\n",
      "obs_lum is sampling its secondary quantities\n",
      "Sampling: log_ep\n",
      "Getting luminosity from derived sampler\n",
      "Sampling: duration\n",
      "duration is sampling its secondary quantities\n",
      "Sampling: log_t90\n",
      "Sampling: log_ep_obs\n",
      "log_ep_obs is sampling its secondary quantities\n",
      "Applying soft boundary\n"
     ]
    },
    {
     "data": {
      "application/vnd.jupyter.widget-view+json": {
       "model_id": "4c40c33fccc54ec2a336627c41947345",
       "version_major": 2,
       "version_minor": 0
      },
      "text/plain": [
       "HBox(children=(FloatProgress(value=0.0, description='samping detection probability', max=32.0, style=ProgressS…"
      ]
     },
     "metadata": {},
     "output_type": "display_data"
    },
    {
     "name": "stdout",
     "output_type": "stream",
     "text": [
      "\n",
      "No Selection! Added back all objects\n",
      "NO HIDDEN OBJECTS\n",
      "Deteced 32 objects or to a distance of 3.08\n"
     ]
    }
   ],
   "source": [
    "population = pop_gen.draw_survey(no_selection=True, boundary=1e-2, flux_sigma=0.)"
   ]
  },
  {
   "cell_type": "code",
   "execution_count": 7,
   "metadata": {
    "ExecuteTime": {
     "end_time": "2020-06-01T18:17:23.785121Z",
     "start_time": "2020-06-01T18:17:22.796121Z"
    }
   },
   "outputs": [
    {
     "data": {
      "text/plain": [
       "Text(0, 0.5, '$L$ (erg/s)')"
      ]
     },
     "execution_count": 7,
     "metadata": {},
     "output_type": "execute_result"
    },
    {
     "data": {
      "image/png": "[encoded data removed]",
      "text/plain": [
       "<Figure size 432x288 with 1 Axes>"
      ]
     },
     "metadata": {
      "needs_background": "light"
     },
     "output_type": "display_data"
    }
   ],
   "source": [
    "fig, ax = plt.subplots()\n",
    "Egrid = 10**np.linspace(1, 4)\n",
    "\n",
    "ax.scatter(10**population.log_ep, population.luminosities)\n",
    "#ax.scatter(10**population.log_ep, population.obs_lum)\n",
    "ax.plot(Egrid, 1e52 * np.power(Egrid/100, 1.5))\n",
    "ax.set_xscale('log')\n",
    "ax.set_yscale('log')\n",
    "ax.set_xlabel('$E_\\mathrm{peak}^\\mathrm{rest}$ (keV)')\n",
    "ax.set_ylabel('$L$ (erg/s)')"
   ]
  },
  {
   "cell_type": "code",
   "execution_count": 8,
   "metadata": {
    "ExecuteTime": {
     "end_time": "2020-06-01T18:17:24.643004Z",
     "start_time": "2020-06-01T18:17:24.639981Z"
    }
   },
   "outputs": [],
   "source": [
    "from popsynth.distributions.cosmological_distribution import luminosity_distance"
   ]
  },
  {
   "cell_type": "code",
   "execution_count": 9,
   "metadata": {
    "ExecuteTime": {
     "end_time": "2020-06-01T18:17:26.238290Z",
     "start_time": "2020-06-01T18:17:25.452286Z"
    }
   },
   "outputs": [
    {
     "data": {
      "text/plain": [
       "Text(0, 0.5, '$F_E$ (erg $\\\\mathrm{s}^{-1}$ $\\\\mathrm{cm}^{-2}$)')"
      ]
     },
     "execution_count": 9,
     "metadata": {},
     "output_type": "execute_result"
    },
    {
     "data": {
      "image/png": "[encoded data removed]",
      "text/plain": [
       "<Figure size 432x288 with 1 Axes>"
      ]
     },
     "metadata": {
      "needs_background": "light"
     },
     "output_type": "display_data"
    }
   ],
   "source": [
    "fig, ax = plt.subplots()\n",
    "dl = luminosity_distance(population.distances)\n",
    "ax.scatter(10**population.log_ep, population.latent)\n",
    "ax.plot(Egrid, 1e52 * np.power(Egrid/100, 1.5))\n",
    "ax.set_xscale('log')\n",
    "ax.set_yscale('log')\n",
    "ax.set_xlabel('$E_\\mathrm{peak}^\\mathrm{obs}$ (keV)')\n",
    "ax.set_ylabel('$F_E$ (erg $\\mathrm{s}^{-1}$ $\\mathrm{cm}^{-2}$)')"
   ]
  },
  {
   "cell_type": "code",
   "execution_count": 13,
   "metadata": {
    "ExecuteTime": {
     "end_time": "2020-06-01T18:05:03.797418Z",
     "start_time": "2020-06-01T18:05:03.541089Z"
    }
   },
   "outputs": [
    {
     "data": {
      "image/png": "[encoded data removed]",
      "text/plain": [
       "<Figure size 432x288 with 1 Axes>"
      ]
     },
     "metadata": {},
     "output_type": "display_data"
    }
   ],
   "source": [
    "# Graph needs fixing for L-dependence\n",
    "pos=nx.drawing.nx_agraph.graphviz_layout(pop_gen.graph, prog='dot')\n",
    "\n",
    "nx.draw(pop_gen.graph, with_labels=True,pos=pos)"
   ]
  },
  {
   "cell_type": "code",
   "execution_count": null,
   "metadata": {},
   "outputs": [],
   "source": []
  }
 ],
 "metadata": {
  "kernelspec": {
   "display_name": "grb",
   "language": "python",
   "name": "grb"
  },
  "language_info": {
   "codemirror_mode": {
    "name": "ipython",
    "version": 3
   },
   "file_extension": ".py",
   "mimetype": "text/x-python",
   "name": "python",
   "nbconvert_exporter": "python",
   "pygments_lexer": "ipython3",
   "version": "3.7.6"
  }
 },
 "nbformat": 4,
 "nbformat_minor": 2
}
