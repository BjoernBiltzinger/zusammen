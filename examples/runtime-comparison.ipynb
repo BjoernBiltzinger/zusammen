{
 "cells": [
  {
   "cell_type": "code",
   "execution_count": 1,
   "metadata": {},
   "outputs": [],
   "source": [
    "import arviz as av"
   ]
  },
  {
   "cell_type": "code",
   "execution_count": 3,
   "metadata": {},
   "outputs": [],
   "source": [
    "normal = av.from_netcdf(\"test_inference_data_energy_flux_4.nc\")\n",
    "normal_opt_exp = av.from_netcdf(\"test_inference_data_energy_flux_opt_exp.nc\")\n",
    "vec = av.from_netcdf(\"test_inference_data_energy_flux_vectorized.nc\")\n",
    "vec_opt = av.from_netcdf(\"test_inference_data_energy_flux_vectorized_opt.nc\")\n",
    "vec_opt_exp = av.from_netcdf(\"test_inference_data_energy_flux_vectorized_opt_exp.nc\")\n",
    "all = [ normal, normal_opt_exp, vec, vec_opt, vec_opt_exp ]"
   ]
  },
  {
   "cell_type": "code",
   "execution_count": 4,
   "metadata": {},
   "outputs": [],
   "source": [
    "epeak = []\n",
    "energy_flux = []\n",
    "gamma = []\n",
    "log_Nrest = []\n",
    "\n",
    "for run in all:\n",
    "    epeak.append(run.posterior.epeak.stack(sample=(\"chain\", \"draw\")).values[0])\n",
    "    energy_flux.append(run.posterior.energy_flux.stack(sample=(\"chain\", \"draw\")).values[0])\n",
    "    gamma.append(run.posterior.gamma.stack(sample=(\"chain\", \"draw\")).values[0])\n",
    "    log_Nrest.append(run.posterior.log_Nrest.stack(sample=(\"chain\", \"draw\")).values[0])"
   ]
  },
  {
   "cell_type": "code",
   "execution_count": 5,
   "metadata": {},
   "outputs": [
    {
     "name": "stdout",
     "output_type": "stream",
     "text": [
      "log(Nrest)\n",
      "52.01826770000004\n",
      "52.02562700000003\n",
      "52.03505539999997\n",
      "52.03374779999999\n",
      "52.02924609999997\n",
      "gamma\n",
      "1.5228247340000014\n",
      "1.4873538994999995\n",
      "1.5007216866000006\n",
      "1.4884128060000001\n",
      "1.5130069310000003\n"
     ]
    }
   ],
   "source": [
    "print(\"log(Nrest)\")\n",
    "for N in log_Nrest:\n",
    "    print(sum(N)/len(N))\n",
    "print(\"gamma\")\n",
    "for g in gamma:\n",
    "    print(sum(g)/len(g))"
   ]
  },
  {
   "cell_type": "code",
   "execution_count": null,
   "metadata": {},
   "outputs": [],
   "source": []
  }
 ],
 "metadata": {
  "kernelspec": {
   "display_name": "Python 3.7.12 ('bachelor')",
   "language": "python",
   "name": "python3"
  },
  "language_info": {
   "codemirror_mode": {
    "name": "ipython",
    "version": 3
   },
   "file_extension": ".py",
   "mimetype": "text/x-python",
   "name": "python",
   "nbconvert_exporter": "python",
   "pygments_lexer": "ipython3",
   "version": "3.7.12"
  },
  "orig_nbformat": 4,
  "vscode": {
   "interpreter": {
    "hash": "99aaa0f83150ec286212006dbfb7bac7bc05a98855b52c90ce1d0f138f9dd21f"
   }
  }
 },
 "nbformat": 4,
 "nbformat_minor": 2
}
