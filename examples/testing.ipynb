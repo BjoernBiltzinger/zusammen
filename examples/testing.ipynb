{
 "cells": [
  {
   "cell_type": "code",
   "execution_count": null,
   "metadata": {},
   "outputs": [],
   "source": [
    "from pathlib import Path\n",
    "\n",
    "import numba as nb\n",
    "import numpy as np\n",
    "import scipy.stats as stats\n",
    "\n",
    "from natsort import natsorted\n",
    "\n",
    "import matplotlib.pyplot as plt\n",
    "\n",
    "\n",
    "#plt.style.use(\"mike\")\n",
    "#import warnings\n",
    "#warnings.simplefilter(\"ignore\")\n",
    "#warnings.filterwarnings('ignore')\n",
    "\n",
    "\n",
    "import astropy.units as u\n",
    "\n",
    "import cmasher as cmr\n",
    "\n",
    "green = \"#33FF86\"\n",
    "purple = \"#CE33FF\"\n",
    "\n",
    "%matplotlib widget\n",
    "from cosmogrb.universe.survey import Survey\n",
    "\n",
    "import os, sys\n",
    "parent_dir = os.path.abspath('..')\n",
    "if parent_dir not in sys.path:\n",
    "    sys.path.append(parent_dir)\n",
    "\n",
    "from zusammen.stan_models.stan_model import get_model\n",
    "from zusammen import AnalysisBuilder, DataSet\n",
    "from zusammen.spectral_plot import display_posterior_model_counts\n",
    "\n",
    "from threeML import update_logging_level\n",
    "\n",
    "import arviz as av\n",
    "\n",
    "\n",
    "update_logging_level(\"FATAL\")\n",
    "\n",
    "\n",
    "from astromodels import Band_Calderone, PointSource, Model\n",
    "\n",
    "\n",
    "from threeML import JointLikelihood, DataList, display_spectrum_model_counts\n",
    "\n",
    "from astromodels import Cutoff_powerlaw\n",
    "\n",
    "import popsynth as ps"
   ]
  },
  {
   "cell_type": "markdown",
   "metadata": {},
   "source": [
    "Import the survey and process the GRBs"
   ]
  },
  {
   "cell_type": "code",
   "execution_count": null,
   "metadata": {
    "tags": []
   },
   "outputs": [],
   "source": [
    "survey = Survey.from_file('data/survey.h5')\n",
    "ab = AnalysisBuilder(survey, use_bb=True)"
   ]
  },
  {
   "cell_type": "code",
   "execution_count": null,
   "metadata": {},
   "outputs": [],
   "source": [
    "ab.write_yaml(\"test_proc.yml\")"
   ]
  },
  {
   "cell_type": "code",
   "execution_count": null,
   "metadata": {
    "tags": []
   },
   "outputs": [],
   "source": [
    "ds = DataSet.from_yaml(\"test_proc.yml\")"
   ]
  },
  {
   "cell_type": "code",
   "execution_count": null,
   "metadata": {
    "jupyter": {
     "source_hidden": true
    },
    "tags": []
   },
   "outputs": [],
   "source": [
    "ds.to_hdf5_file(\"sgrb.h5\")"
   ]
  },
  {
   "cell_type": "code",
   "execution_count": null,
   "metadata": {},
   "outputs": [],
   "source": [
    "ds = DataSet.from_hdf5_file('sgrb.h5')"
   ]
  },
  {
   "cell_type": "code",
   "execution_count": null,
   "metadata": {},
   "outputs": [],
   "source": [
    "ds.to_stan_dict()"
   ]
  },
  {
   "cell_type": "code",
   "execution_count": null,
   "metadata": {},
   "outputs": [],
   "source": [
    "maxl = []\n",
    "for i,j in enumerate(ds.to_stan_dict()[\"observed_counts\"]):\n",
    "    maxl.append(j.max())\n",
    "    print(i, j.max())\n",
    "\n",
    "print(max(maxl))"
   ]
  },
  {
   "cell_type": "code",
   "execution_count": null,
   "metadata": {},
   "outputs": [],
   "source": [
    "%matplotlib widget\n",
    "i,j = 0,0\n",
    "plt.plot(ds.to_stan_dict()[\"response\"][i,j].T @ ds.to_stan_dict()['observed_counts'][i,j])"
   ]
  },
  {
   "cell_type": "markdown",
   "metadata": {},
   "source": [
    "Make Stan model"
   ]
  },
  {
   "cell_type": "code",
   "execution_count": null,
   "metadata": {},
   "outputs": [],
   "source": [
    "m = get_model(\"cpl_simple_chunked_centered\")"
   ]
  },
  {
   "cell_type": "code",
   "execution_count": null,
   "metadata": {},
   "outputs": [],
   "source": [
    "m.clean_model()"
   ]
  },
  {
   "cell_type": "code",
   "execution_count": null,
   "metadata": {},
   "outputs": [],
   "source": [
    "m.build_model(opt_exp=True)"
   ]
  },
  {
   "cell_type": "code",
   "execution_count": null,
   "metadata": {},
   "outputs": [],
   "source": [
    "data = ds.to_stan_dict()\n",
    "\n",
    "n_threads = 2\n",
    "n_chains = 2\n",
    "\n",
    "fit = m.model.sample(\n",
    "    data=data,\n",
    "    parallel_chains=n_chains,\n",
    "    chains=n_chains,\n",
    "    inits= {\n",
    "        'alpha': -1 * np.ones(data['N_intervals']),\n",
    "        'log_ec': 2 * np.ones(data['N_intervals']),\n",
    "\n",
    "        'log_energy_flux': -7 * np.ones(data['N_intervals']),\n",
    "        # 'log_energy_flux_mu_raw': 0.00001,\n",
    "\n",
    "        # 'gamma_sig_meta': 1,\n",
    "        # 'log_Nrest_sig_meta': 1,\n",
    "        # 'gamma_mu_meta': 1,\n",
    "        # 'log_Nrest_mu_meta': 52,\n",
    "        # 'gamma': np.ones(data['N_grbs']),\n",
    "        # 'log_Nrest': 52 * np.ones(data['N_grbs'])\n",
    "    },\n",
    "    threads_per_chain=n_threads,\n",
    "    seed=1234,\n",
    "    iter_warmup=1000,\n",
    "    iter_sampling=500,\n",
    "    max_treedepth=12,\n",
    "    adapt_delta=0.99,\n",
    "    step_size=0.1,\n",
    "    show_progress=True,\n",
    "    # show_console=True\n",
    ")"
   ]
  },
  {
   "cell_type": "code",
   "execution_count": null,
   "metadata": {},
   "outputs": [],
   "source": [
    "fit"
   ]
  },
  {
   "cell_type": "code",
   "execution_count": null,
   "metadata": {},
   "outputs": [],
   "source": [
    "fit.diagnose()"
   ]
  },
  {
   "cell_type": "markdown",
   "metadata": {},
   "source": [
    "Import Stan results into arviz"
   ]
  },
  {
   "cell_type": "code",
   "execution_count": null,
   "metadata": {},
   "outputs": [],
   "source": [
    "res = av.from_cmdstanpy(fit)"
   ]
  },
  {
   "cell_type": "code",
   "execution_count": null,
   "metadata": {},
   "outputs": [],
   "source": [
    "res.to_netcdf(\"inference_data/testing_5_grbs_2.nc\")"
   ]
  },
  {
   "cell_type": "code",
   "execution_count": null,
   "metadata": {},
   "outputs": [],
   "source": [
    "res = av.from_netcdf(\"inference_data/testing_gc_5_grbs.nc\")"
   ]
  },
  {
   "cell_type": "code",
   "execution_count": null,
   "metadata": {},
   "outputs": [],
   "source": [
    "res.sample_stats"
   ]
  },
  {
   "cell_type": "code",
   "execution_count": null,
   "metadata": {},
   "outputs": [],
   "source": [
    "%matplotlib widget\n",
    "av.plot_trace(res)"
   ]
  },
  {
   "cell_type": "code",
   "execution_count": null,
   "metadata": {},
   "outputs": [],
   "source": [
    "%matplotlib widget\n",
    "av.plot_pair(res, divergences=True)"
   ]
  },
  {
   "cell_type": "code",
   "execution_count": null,
   "metadata": {},
   "outputs": [],
   "source": [
    "div = res.sample_stats.diverging.stack(sample=(\"chain\", \"draw\")).values\n",
    "div.sum()"
   ]
  },
  {
   "cell_type": "markdown",
   "metadata": {},
   "source": [
    "Load parameters  "
   ]
  },
  {
   "cell_type": "code",
   "execution_count": null,
   "metadata": {},
   "outputs": [],
   "source": [
    "id = 0\n",
    "\n",
    "\n",
    "alpha = res.posterior.alpha.stack(sample=(\"chain\", \"draw\")).values[id]\n",
    "\n",
    "log_ec = res.posterior.log_ec.stack(sample=(\"chain\", \"draw\")).values[id]\n",
    "\n",
    "K  = res.posterior.K.stack(sample=(\"chain\", \"draw\")).values[id]\n",
    "\n",
    "# log_epeak = res.posterior.log_epeak.stack(sample=(\"chain\", \"draw\")).values[id]\n",
    "\n",
    "energy_flux = res.posterior.energy_flux.stack(sample=(\"chain\", \"draw\")).values[id]\n",
    "\n",
    "# gamma = res.posterior.gamma.stack(sample=(\"chain\", \"draw\")).values[id]\n",
    "\n",
    "# log_Nrest = res.posterior.log_Nrest.stack(sample=(\"chain\", \"draw\")).values[id]\n",
    "\n",
    "\n",
    "div = res.sample_stats.diverging.stack(sample=(\"chain\", \"draw\")).values\n",
    "\n",
    "samples = np.vstack((K, alpha, 10.**log_ec))\n",
    "\n",
    "\n",
    "dl = ds.get_data_list_of_interval(id)"
   ]
  },
  {
   "cell_type": "code",
   "execution_count": null,
   "metadata": {},
   "outputs": [],
   "source": [
    "div.sum()"
   ]
  },
  {
   "cell_type": "code",
   "execution_count": null,
   "metadata": {},
   "outputs": [],
   "source": [
    "bc = Cutoff_powerlaw(piv=100)\n",
    "\n",
    "bc.index.bounds = (None, None)\n",
    "bc.K.bounds = (None, None)\n",
    "bc.xc.bounds = (None, None)\n",
    "\n",
    "model = Model(PointSource(\"ps\",0,0, spectral_shape=bc))"
   ]
  },
  {
   "cell_type": "code",
   "execution_count": null,
   "metadata": {},
   "outputs": [],
   "source": [
    "%matplotlib widget\n",
    "#fig, ax = plt.subplots()\n",
    "\n",
    "plt.scatter(log_ec, alpha, alpha=0.1)"
   ]
  },
  {
   "cell_type": "code",
   "execution_count": null,
   "metadata": {},
   "outputs": [],
   "source": [
    "fig, ax = plt.subplots()\n",
    "\n",
    "ax.scatter(K, alpha, alpha=0.1)"
   ]
  },
  {
   "cell_type": "code",
   "execution_count": null,
   "metadata": {},
   "outputs": [],
   "source": [
    "display_posterior_model_counts(\n",
    "    dl[1], model, samples.T[::20], min_rate=1e-99, shade=False\n",
    ")"
   ]
  },
  {
   "cell_type": "code",
   "execution_count": null,
   "metadata": {},
   "outputs": [],
   "source": [
    "cpl = Cutoff_powerlaw(piv=100,K=1e-1,xc=200)\n",
    "\n",
    "\n",
    "dl = ds.get_data_list_of_interval(2)\n",
    "\n",
    "model = Model(PointSource(\"ps\",0,0, spectral_shape=cpl))\n",
    "\n",
    "ba = JointLikelihood(model,DataList(*dl))"
   ]
  },
  {
   "cell_type": "code",
   "execution_count": null,
   "metadata": {},
   "outputs": [],
   "source": [
    "ba.fit()"
   ]
  },
  {
   "cell_type": "code",
   "execution_count": null,
   "metadata": {},
   "outputs": [],
   "source": [
    "display_spectrum_model_counts(ba)"
   ]
  },
  {
   "cell_type": "code",
   "execution_count": null,
   "metadata": {},
   "outputs": [],
   "source": [
    "dl[0].view_count_spectrum()"
   ]
  },
  {
   "cell_type": "code",
   "execution_count": null,
   "metadata": {},
   "outputs": [],
   "source": [
    "cpl"
   ]
  }
 ],
 "metadata": {
  "kernelspec": {
   "display_name": "Python 3.8.13 ('bachelor-3.8')",
   "language": "python",
   "name": "python3"
  },
  "language_info": {
   "codemirror_mode": {
    "name": "ipython",
    "version": 3
   },
   "file_extension": ".py",
   "mimetype": "text/x-python",
   "name": "python",
   "nbconvert_exporter": "python",
   "pygments_lexer": "ipython3",
   "version": "3.8.13"
  },
  "vscode": {
   "interpreter": {
    "hash": "80e5f02f3fa944d55293b1e2ff20ea568041a9b3cc6e2d47bcda60589be25eb6"
   }
  },
  "widgets": {
   "application/vnd.jupyter.widget-state+json": {
    "state": {},
    "version_major": 2,
    "version_minor": 0
   }
  }
 },
 "nbformat": 4,
 "nbformat_minor": 4
}
