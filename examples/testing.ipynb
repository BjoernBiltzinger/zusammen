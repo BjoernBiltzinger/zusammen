{
 "cells": [
  {
   "cell_type": "code",
   "execution_count": 1,
   "metadata": {},
   "outputs": [
    {
     "name": "stdout",
     "output_type": "stream",
     "text": [
      "[\u001b[35mWARNING \u001b[0m]\u001b[35m The naima package is not available. Models that depend on it will not be available\u001b[0m\n",
      "[\u001b[35mWARNING \u001b[0m]\u001b[35m The GSL library or the pygsl wrapper cannot be loaded. Models that depend on it will not be available.\u001b[0m\n",
      "[\u001b[35mWARNING \u001b[0m]\u001b[35m The ebltable package is not available. Models that depend on it will not be available\u001b[0m\n"
     ]
    }
   ],
   "source": [
    "from pathlib import Path\n",
    "\n",
    "import numba as nb\n",
    "import numpy as np\n",
    "import scipy.stats as stats\n",
    "\n",
    "from natsort import natsorted\n",
    "\n",
    "import matplotlib.pyplot as plt\n",
    "\n",
    "\n",
    "#plt.style.use(\"mike\")\n",
    "import warnings\n",
    "warnings.simplefilter(\"ignore\")\n",
    "warnings.filterwarnings('ignore')\n",
    "\n",
    "\n",
    "import astropy.units as u\n",
    "\n",
    "import cmasher as cmr\n",
    "\n",
    "green = \"#33FF86\"\n",
    "purple = \"#CE33FF\"\n",
    "\n",
    "%matplotlib widget\n",
    "from cosmogrb.universe.survey import Survey\n",
    "\n",
    "import os, sys\n",
    "parent_dir = os.path.abspath('..')\n",
    "if parent_dir not in sys.path:\n",
    "    sys.path.append(parent_dir)\n",
    "\n",
    "from zusammen.stan_models.stan_model import get_model\n",
    "from zusammen import AnalysisBuilder, DataSet\n",
    "from zusammen.spectral_plot import display_posterior_model_counts\n",
    "\n",
    "from threeML import update_logging_level\n",
    "\n",
    "import arviz as av\n",
    "\n",
    "\n",
    "update_logging_level(\"FATAL\")\n",
    "\n",
    "\n",
    "from astromodels import Band_Calderone, PointSource, Model\n",
    "\n",
    "\n",
    "from threeML import JointLikelihood, DataList, display_spectrum_model_counts\n",
    "\n",
    "from astromodels import Cutoff_powerlaw\n",
    "\n",
    "import popsynth as ps"
   ]
  },
  {
   "cell_type": "markdown",
   "metadata": {},
   "source": [
    "Import the survey and process the GRBs"
   ]
  },
  {
   "cell_type": "code",
   "execution_count": null,
   "metadata": {
    "tags": []
   },
   "outputs": [],
   "source": [
    "survey = Survey.from_file('data/survey.h5')\n",
    "ab = AnalysisBuilder(survey, use_bb=True)"
   ]
  },
  {
   "cell_type": "code",
   "execution_count": null,
   "metadata": {},
   "outputs": [],
   "source": [
    "ab.write_yaml(\"test_proc.yml\")"
   ]
  },
  {
   "cell_type": "code",
   "execution_count": 2,
   "metadata": {
    "tags": []
   },
   "outputs": [],
   "source": [
    "ds = DataSet.from_yaml(\"test_proc.yml\")"
   ]
  },
  {
   "cell_type": "code",
   "execution_count": null,
   "metadata": {
    "jupyter": {
     "source_hidden": true
    },
    "tags": []
   },
   "outputs": [],
   "source": [
    "ds.to_hdf5_file(\"sgrb.h5\")"
   ]
  },
  {
   "cell_type": "code",
   "execution_count": null,
   "metadata": {},
   "outputs": [],
   "source": [
    "ds.to_hdf5_file(\"sgrb.h5\", sig_threshold=40)"
   ]
  },
  {
   "cell_type": "code",
   "execution_count": null,
   "metadata": {},
   "outputs": [],
   "source": [
    "ds = DataSet.from_hdf5_file('sgrb.h5')"
   ]
  },
  {
   "cell_type": "code",
   "execution_count": null,
   "metadata": {},
   "outputs": [],
   "source": [
    "ds.to_stan_dict()"
   ]
  },
  {
   "cell_type": "markdown",
   "metadata": {},
   "source": [
    "Make Stan model"
   ]
  },
  {
   "cell_type": "code",
   "execution_count": 6,
   "metadata": {},
   "outputs": [],
   "source": [
    "m = get_model(\"cpl_simple_chunked_gc\")"
   ]
  },
  {
   "cell_type": "code",
   "execution_count": 7,
   "metadata": {},
   "outputs": [],
   "source": [
    "m.clean_model()"
   ]
  },
  {
   "cell_type": "code",
   "execution_count": 8,
   "metadata": {},
   "outputs": [
    {
     "name": "stderr",
     "output_type": "stream",
     "text": [
      "07:47:54 - cmdstanpy - INFO - compiling stan file /home/chrobin/Documents/zusammen/zusammen/stan_models/cpl_simple_chunked_gc.stan to exe file /home/chrobin/Documents/zusammen/zusammen/stan_models/cpl_simple_chunked_gc\n",
      "07:48:51 - cmdstanpy - INFO - compiled model executable: /home/chrobin/Documents/zusammen/zusammen/stan_models/cpl_simple_chunked_gc\n",
      "07:48:51 - cmdstanpy - WARNING - Stan compiler has produced 26 warnings:\n",
      "07:48:51 - cmdstanpy - WARNING - \n",
      "--- Translating Stan model to C++ code ---\n",
      "bin/stanc --include-paths=/home/chrobin/Documents/zusammen/zusammen/stan_models --o=/home/chrobin/Documents/zusammen/zusammen/stan_models/cpl_simple_chunked_gc.hpp /home/chrobin/Documents/zusammen/zusammen/stan_models/cpl_simple_chunked_gc.stan\n",
      "Warning in '/home/chrobin/Documents/zusammen/zusammen/stan_models/cpl.stan', line 35, column 41, included from\n",
      "'/home/chrobin/Documents/zusammen/zusammen/stan_models/cpl_simple_chunked_gc.stan', line 2, column 0: Declaration\n",
      "    of arrays by placing brackets after a type is deprecated and will be\n",
      "    removed in Stan 2.32.0. Instead use the array keyword before the type.\n",
      "    This can be changed automatically using the auto-format flag to stanc\n",
      "Warning in '/home/chrobin/Documents/zusammen/zusammen/stan_models/cpl.stan', line 35, column 55, included from\n",
      "'/home/chrobin/Documents/zusammen/zusammen/stan_models/cpl_simple_chunked_gc.stan', line 2, column 0: Declaration\n",
      "    of arrays by placing brackets after a type is deprecated and will be\n",
      "    removed in Stan 2.32.0. Instead use the array keyword before the type.\n",
      "    This can be changed automatically using the auto-format flag to stanc\n",
      "Warning in '/home/chrobin/Documents/zusammen/zusammen/stan_models/cpl.stan', line 35, column 67, included from\n",
      "'/home/chrobin/Documents/zusammen/zusammen/stan_models/cpl_simple_chunked_gc.stan', line 2, column 0: Declaration\n",
      "    of arrays by placing brackets after a type is deprecated and will be\n",
      "    removed in Stan 2.32.0. Instead use the array keyword before the type.\n",
      "    This can be changed automatically using the auto-format flag to stanc\n",
      "Warning in '/home/chrobin/Documents/zusammen/zusammen/stan_models/pgstat.stan', line 16, column 119, included from\n",
      "'/home/chrobin/Documents/zusammen/zusammen/stan_models/cpl_simple_chunked_gc.stan', line 3, column 0: Declaration\n",
      "    of arrays by placing brackets after a type is deprecated and will be\n",
      "    removed in Stan 2.32.0. Instead use the array keyword before the type.\n",
      "    This can be changed automatically using the auto-format flag to stanc\n",
      "Warning in '/home/chrobin/Documents/zusammen/zusammen/stan_models/pgstat.stan', line 16, column 146, included from\n",
      "'/home/chrobin/Documents/zusammen/zusammen/stan_models/cpl_simple_chunked_gc.stan', line 3, column 0: Declaration\n",
      "    of arrays by placing brackets after a type is deprecated and will be\n",
      "    removed in Stan 2.32.0. Instead use the array keyword before the type.\n",
      "    This can be changed automatically using the auto-format flag to stanc\n",
      "Warning in '/home/chrobin/Documents/zusammen/zusammen/stan_models/cpl_interval_fold.stan', line 1, column 22, included from\n",
      "'/home/chrobin/Documents/zusammen/zusammen/stan_models/cpl_simple_chunked_gc.stan', line 4, column 0: Declaration\n",
      "    of arrays by placing brackets after a type is deprecated and will be\n",
      "    removed in Stan 2.32.0. Instead use the array keyword before the type.\n",
      "    This can be changed automatically using the auto-format flag to stanc\n",
      "Warning in '/home/chrobin/Documents/zusammen/zusammen/stan_models/cpl_interval_fold.stan', line 1, column 92, included from\n",
      "'/home/chrobin/Documents/zusammen/zusammen/stan_models/cpl_simple_chunked_gc.stan', line 4, column 0: Declaration\n",
      "    of arrays by placing brackets after a type is deprecated and will be\n",
      "    removed in Stan 2.32.0. Instead use the array keyword before the type.\n",
      "    This can be changed automatically using the auto-format flag to stanc\n",
      "Warning in '/home/chrobin/Documents/zusammen/zusammen/stan_models/cpl_interval_fold.stan', line 1, column 119, included from\n",
      "'/home/chrobin/Documents/zusammen/zusammen/stan_models/cpl_simple_chunked_gc.stan', line 4, column 0: Declaration\n",
      "    of arrays by placing brackets after a type is deprecated and will be\n",
      "    removed in Stan 2.32.0. Instead use the array keyword before the type.\n",
      "    This can be changed automatically using the auto-format flag to stanc\n",
      "Warning in '/home/chrobin/Documents/zusammen/zusammen/stan_models/cpl_interval_fold.stan', line 1, column 148, included from\n",
      "'/home/chrobin/Documents/zusammen/zusammen/stan_models/cpl_simple_chunked_gc.stan', line 4, column 0: Declaration\n",
      "    of arrays by placing brackets after a type is deprecated and will be\n",
      "    removed in Stan 2.32.0. Instead use the array keyword before the type.\n",
      "    This can be changed automatically using the auto-format flag to stanc\n",
      "Warning in '/home/chrobin/Documents/zusammen/zusammen/stan_models/cpl_interval_fold.stan', line 1, column 177, included from\n",
      "'/home/chrobin/Documents/zusammen/zusammen/stan_models/cpl_simple_chunked_gc.stan', line 4, column 0: Declaration\n",
      "    of arrays by placing brackets after a type is deprecated and will be\n",
      "    removed in Stan 2.32.0. Instead use the array keyword before the type.\n",
      "    This can be changed automatically using the auto-format flag to stanc\n",
      "Warning in '/home/chrobin/Documents/zusammen/zusammen/stan_models/cpl_interval_fold.stan', line 1, column 192, included from\n",
      "'/home/chrobin/Documents/zusammen/zusammen/stan_models/cpl_simple_chunked_gc.stan', line 4, column 0: Declaration\n",
      "    of arrays by placing brackets after a type is deprecated and will be\n",
      "    removed in Stan 2.32.0. Instead use the array keyword before the type.\n",
      "    This can be changed automatically using the auto-format flag to stanc\n",
      "Warning in '/home/chrobin/Documents/zusammen/zusammen/stan_models/cpl_interval_fold.stan', line 1, column 217, included from\n",
      "'/home/chrobin/Documents/zusammen/zusammen/stan_models/cpl_simple_chunked_gc.stan', line 4, column 0: Declaration\n",
      "    of arrays by placing brackets after a type is deprecated and will be\n",
      "    removed in Stan 2.32.0. Instead use the array keyword before the type.\n",
      "    This can be changed automatically using the auto-format flag to stanc\n",
      "Warning in '/home/chrobin/Documents/zusammen/zusammen/stan_models/cpl_interval_fold.stan', line 1, column 236, included from\n",
      "'/home/chrobin/Documents/zusammen/zusammen/stan_models/cpl_simple_chunked_gc.stan', line 4, column 0: Declaration\n",
      "    of arrays by placing brackets after a type is deprecated and will be\n",
      "    removed in Stan 2.32.0. Instead use the array keyword before the type.\n",
      "    This can be changed automatically using the auto-format flag to stanc\n",
      "Warning in '/home/chrobin/Documents/zusammen/zusammen/stan_models/cpl_interval_fold.stan', line 1, column 258, included from\n",
      "'/home/chrobin/Documents/zusammen/zusammen/stan_models/cpl_simple_chunked_gc.stan', line 4, column 0: Declaration\n",
      "    of arrays by placing brackets after a type is deprecated and will be\n",
      "    removed in Stan 2.32.0. Instead use the array keyword before the type.\n",
      "    This can be changed automatically using the auto-format flag to stanc\n",
      "Warning in '/home/chrobin/Documents/zusammen/zusammen/stan_models/cpl_interval_fold.stan', line 1, column 280, included from\n",
      "'/home/chrobin/Documents/zusammen/zusammen/stan_models/cpl_simple_chunked_gc.stan', line 4, column 0: Declaration\n",
      "    of arrays by placing brackets after a type is deprecated and will be\n",
      "    removed in Stan 2.32.0. Instead use the array keyword before the type.\n",
      "    This can be changed automatically using the auto-format flag to stanc\n",
      "Warning in '/home/chrobin/Documents/zusammen/zusammen/stan_models/cpl_interval_fold.stan', line 1, column 303, included from\n",
      "'/home/chrobin/Documents/zusammen/zusammen/stan_models/cpl_simple_chunked_gc.stan', line 4, column 0: Declaration\n",
      "    of arrays by placing brackets after a type is deprecated and will be\n",
      "    removed in Stan 2.32.0. Instead use the array keyword before the type.\n",
      "    This can be changed automatically using the auto-format flag to stanc\n",
      "Warning in '/home/chrobin/Documents/zusammen/zusammen/stan_models/cpl_interval_fold.stan', line 1, column 327, included from\n",
      "'/home/chrobin/Documents/zusammen/zusammen/stan_models/cpl_simple_chunked_gc.stan', line 4, column 0: Declaration\n",
      "    of arrays by placing brackets after a type is deprecated and will be\n",
      "    removed in Stan 2.32.0. Instead use the array keyword before the type.\n",
      "    This can be changed automatically using the auto-format flag to stanc\n",
      "Warning in '/home/chrobin/Documents/zusammen/zusammen/stan_models/cpl_interval_fold.stan', line 1, column 347, included from\n",
      "'/home/chrobin/Documents/zusammen/zusammen/stan_models/cpl_simple_chunked_gc.stan', line 4, column 0: Declaration\n",
      "    of arrays by placing brackets after a type is deprecated and will be\n",
      "    removed in Stan 2.32.0. Instead use the array keyword before the type.\n",
      "    This can be changed automatically using the auto-format flag to stanc\n",
      "Warning in '/home/chrobin/Documents/zusammen/zusammen/stan_models/cpl_interval_fold.stan', line 1, column 377, included from\n",
      "'/home/chrobin/Documents/zusammen/zusammen/stan_models/cpl_simple_chunked_gc.stan', line 4, column 0: Declaration\n",
      "    of arrays by placing brackets after a type is deprecated and will be\n",
      "    removed in Stan 2.32.0. Instead use the array keyword before the type.\n",
      "    This can be changed automatically using the auto-format flag to stanc\n",
      "Warning in '/home/chrobin/Documents/zusammen/zusammen/stan_models/cpl_interval_fold.stan', line 1, column 410, included from\n",
      "'/home/chrobin/Documents/zusammen/zusammen/stan_models/cpl_simple_chunked_gc.stan', line 4, column 0: Declaration\n",
      "    of arrays by placing brackets after a type is deprecated and will be\n",
      "    removed in Stan 2.32.0. Instead use the array keyword before the type.\n",
      "    This can be changed automatically using the auto-format flag to stanc\n",
      "Warning in '/home/chrobin/Documents/zusammen/zusammen/stan_models/cpl_interval_fold.stan', line 1, column 430, included from\n",
      "'/home/chrobin/Documents/zusammen/zusammen/stan_models/cpl_simple_chunked_gc.stan', line 4, column 0: Declaration\n",
      "    of arrays by placing brackets after a type is deprecated and will be\n",
      "    removed in Stan 2.32.0. Instead use the array keyword before the type.\n",
      "    This can be changed automatically using the auto-format flag to stanc\n",
      "Warning in '/home/chrobin/Documents/zusammen/zusammen/stan_models/cpl_interval_fold.stan', line 1, column 453, included from\n",
      "'/home/chrobin/Documents/zusammen/zusammen/stan_models/cpl_simple_chunked_gc.stan', line 4, column 0: Declaration\n",
      "    of arrays by placing brackets after a type is deprecated and will be\n",
      "    removed in Stan 2.32.0. Instead use the array keyword before the type.\n",
      "    This can be changed automatically using the auto-format flag to stanc\n",
      "Warning in '/home/chrobin/Documents/zusammen/zusammen/stan_models/cpl_interval_fold.stan', line 1, column 468, included from\n",
      "'/home/chrobin/Documents/zusammen/zusammen/stan_models/cpl_simple_chunked_gc.stan', line 4, column 0: Declaration\n",
      "    of arrays by placing brackets after a type is deprecated and will be\n",
      "    removed in Stan 2.32.0. Instead use the array keyword before the type.\n",
      "    This can be changed automatically using the auto-format flag to stanc\n",
      "Warning in '/home/chrobin/Documents/zusammen/zusammen/stan_models/cpl_interval_fold.stan', line 1, column 484, included from\n",
      "'/home/chrobin/Documents/zusammen/zusammen/stan_models/cpl_simple_chunked_gc.stan', line 4, column 0: Declaration\n",
      "    of arrays by placing brackets after a type is deprecated and will be\n",
      "    removed in Stan 2.32.0. Instead use the array keyword before the type.\n",
      "    This can be changed automatically using the auto-format flag to stanc\n",
      "Warning in '/home/chrobin/Documents/zusammen/zusammen/stan_models/cpl_simple_chunked_gc.stan', line 61, column 2: Declaration\n",
      "    of arrays by placing brackets after a variable name is deprecated and\n",
      "    will be removed in Stan 2.32.0. Instead use the array keyword before the\n",
      "    type. This can be changed automatically using the auto-format flag to\n",
      "    stanc\n",
      "Warning in '/home/chrobin/Documents/zusammen/zusammen/stan_models/cpl_simple_chunked_gc.stan', line 62, column 2: Declaration\n",
      "    of arrays by placing brackets after a variable name is deprecated and\n",
      "    will be removed in Stan 2.32.0. Instead use the array keyword before the\n",
      "    type. This can be changed automatically using the auto-format flag to\n",
      "    stanc\n",
      "\n",
      "--- Compiling, linking C++ code ---\n",
      "g++ -std=c++1y -pthread -D_REENTRANT -Wno-sign-compare -Wno-ignored-attributes     -DSTAN_THREADS -I stan/lib/stan_math/lib/tbb_2020.3/include    -O3 -I src -I stan/src -I lib/rapidjson_1.1.0/ -I lib/CLI11-1.9.1/ -I stan/lib/stan_math/ -I stan/lib/stan_math/lib/eigen_3.3.9 -I stan/lib/stan_math/lib/boost_1.78.0 -I stan/lib/stan_math/lib/sundials_6.1.1/include -I stan/lib/stan_math/lib/sundials_6.1.1/src/sundials    -DBOOST_DISABLE_ASSERTS          -c -Wno-ignored-attributes   -x c++ -o /home/chrobin/Documents/zusammen/zusammen/stan_models/cpl_simple_chunked_gc.o /home/chrobin/Documents/zusammen/zusammen/stan_models/cpl_simple_chunked_gc.hpp\n",
      "In file included from stan/lib/stan_math/lib/boost_1.78.0/boost/multi_array/multi_array_ref.hpp:32,\n",
      "                 from stan/lib/stan_math/lib/boost_1.78.0/boost/multi_array.hpp:34,\n",
      "                 from stan/lib/stan_math/lib/boost_1.78.0/boost/numeric/odeint/algebra/multi_array_algebra.hpp:22,\n",
      "                 from stan/lib/stan_math/lib/boost_1.78.0/boost/numeric/odeint.hpp:63,\n",
      "                 from stan/lib/stan_math/stan/math/prim/functor/ode_rk45.hpp:9,\n",
      "                 from stan/lib/stan_math/stan/math/prim/functor/integrate_ode_rk45.hpp:6,\n",
      "                 from stan/lib/stan_math/stan/math/prim/functor.hpp:14,\n",
      "                 from stan/lib/stan_math/stan/math/rev/fun.hpp:196,\n",
      "                 from stan/lib/stan_math/stan/math/rev.hpp:10,\n",
      "                 from stan/lib/stan_math/stan/math.hpp:19,\n",
      "                 from stan/src/stan/model/model_header.hpp:4,\n",
      "                 from /home/chrobin/Documents/zusammen/zusammen/stan_models/cpl_simple_chunked_gc.hpp:3:\n",
      "stan/lib/stan_math/lib/boost_1.78.0/boost/functional.hpp:180:45: warning: ‘template<class _Arg, class _Result> struct std::unary_function’ is deprecated [-Wdeprecated-declarations]\n",
      "  180 |         : public boost::functional::detail::unary_function<typename unary_traits<Predicate>::argument_type,bool>\n",
      "      |                                             ^~~~~~~~~~~~~~\n",
      "In file included from /usr/include/c++/12.1.0/string:48,\n",
      "                 from /usr/include/c++/12.1.0/bits/locale_classes.h:40,\n",
      "                 from /usr/include/c++/12.1.0/bits/ios_base.h:41,\n",
      "                 from /usr/include/c++/12.1.0/ios:42,\n",
      "                 from /usr/include/c++/12.1.0/istream:38,\n",
      "                 from /usr/include/c++/12.1.0/sstream:38,\n",
      "                 from /usr/include/c++/12.1.0/complex:45,\n",
      "                 from stan/lib/stan_math/lib/eigen_3.3.9/Eigen/Core:96,\n",
      "                 from stan/lib/stan_math/lib/eigen_3.3.9/Eigen/Dense:1,\n",
      "                 from stan/lib/stan_math/stan/math/prim/fun/Eigen.hpp:22,\n",
      "                 from stan/lib/stan_math/stan/math/rev.hpp:4:\n",
      "/usr/include/c++/12.1.0/bits/stl_function.h:117:12: note: declared here\n",
      "  117 |     struct unary_function\n",
      "      |            ^~~~~~~~~~~~~~\n",
      "stan/lib/stan_math/lib/boost_1.78.0/boost/functional.hpp:214:45: warning: ‘template<class _Arg1, class _Arg2, class _Result> struct std::binary_function’ is deprecated [-Wdeprecated-declarations]\n",
      "  214 |         : public boost::functional::detail::binary_function<\n",
      "      |                                             ^~~~~~~~~~~~~~~\n",
      "/usr/include/c++/12.1.0/bits/stl_function.h:131:12: note: declared here\n",
      "  131 |     struct binary_function\n",
      "      |            ^~~~~~~~~~~~~~~\n",
      "stan/lib/stan_math/lib/boost_1.78.0/boost/functional.hpp:252:45: warning: ‘template<class _Arg, class _Result> struct std::unary_function’ is deprecated [-Wdeprecated-declarations]\n",
      "  252 |         : public boost::functional::detail::unary_function<\n",
      "      |                                             ^~~~~~~~~~~~~~\n",
      "/usr/include/c++/12.1.0/bits/stl_function.h:117:12: note: declared here\n",
      "  117 |     struct unary_function\n",
      "      |            ^~~~~~~~~~~~~~\n",
      "stan/lib/stan_math/lib/boost_1.78.0/boost/functional.hpp:299:45: warning: ‘template<class _Arg, class _Result> struct std::unary_function’ is deprecated [-Wdeprecated-declarations]\n",
      "  299 |         : public boost::functional::detail::unary_function<\n",
      "      |                                             ^~~~~~~~~~~~~~\n",
      "/usr/include/c++/12.1.0/bits/stl_function.h:117:12: note: declared here\n",
      "  117 |     struct unary_function\n",
      "      |            ^~~~~~~~~~~~~~\n",
      "stan/lib/stan_math/lib/boost_1.78.0/boost/functional.hpp:345:57: warning: ‘template<class _Arg, class _Result> struct std::unary_function’ is deprecated [-Wdeprecated-declarations]\n",
      "  345 |     class mem_fun_t : public boost::functional::detail::unary_function<T*, S>\n",
      "      |                                                         ^~~~~~~~~~~~~~\n",
      "/usr/include/c++/12.1.0/bits/stl_function.h:117:12: note: declared here\n",
      "  117 |     struct unary_function\n",
      "      |            ^~~~~~~~~~~~~~\n",
      "stan/lib/stan_math/lib/boost_1.78.0/boost/functional.hpp:361:58: warning: ‘template<class _Arg1, class _Arg2, class _Result> struct std::binary_function’ is deprecated [-Wdeprecated-declarations]\n",
      "  361 |     class mem_fun1_t : public boost::functional::detail::binary_function<T*, A, S>\n",
      "      |                                                          ^~~~~~~~~~~~~~~\n",
      "/usr/include/c++/12.1.0/bits/stl_function.h:131:12: note: declared here\n",
      "  131 |     struct binary_function\n",
      "      |            ^~~~~~~~~~~~~~~\n",
      "stan/lib/stan_math/lib/boost_1.78.0/boost/functional.hpp:377:63: warning: ‘template<class _Arg, class _Result> struct std::unary_function’ is deprecated [-Wdeprecated-declarations]\n",
      "  377 |     class const_mem_fun_t : public boost::functional::detail::unary_function<const T*, S>\n",
      "      |                                                               ^~~~~~~~~~~~~~\n",
      "/usr/include/c++/12.1.0/bits/stl_function.h:117:12: note: declared here\n",
      "  117 |     struct unary_function\n",
      "      |            ^~~~~~~~~~~~~~\n",
      "stan/lib/stan_math/lib/boost_1.78.0/boost/functional.hpp:393:64: warning: ‘template<class _Arg1, class _Arg2, class _Result> struct std::binary_function’ is deprecated [-Wdeprecated-declarations]\n",
      "  393 |     class const_mem_fun1_t : public boost::functional::detail::binary_function<const T*, A, S>\n",
      "      |                                                                ^~~~~~~~~~~~~~~\n",
      "/usr/include/c++/12.1.0/bits/stl_function.h:131:12: note: declared here\n",
      "  131 |     struct binary_function\n",
      "      |            ^~~~~~~~~~~~~~~\n",
      "stan/lib/stan_math/lib/boost_1.78.0/boost/functional.hpp:438:61: warning: ‘template<class _Arg, class _Result> struct std::unary_function’ is deprecated [-Wdeprecated-declarations]\n",
      "  438 |     class mem_fun_ref_t : public boost::functional::detail::unary_function<T&, S>\n",
      "      |                                                             ^~~~~~~~~~~~~~\n",
      "/usr/include/c++/12.1.0/bits/stl_function.h:117:12: note: declared here\n",
      "  117 |     struct unary_function\n",
      "      |            ^~~~~~~~~~~~~~\n",
      "stan/lib/stan_math/lib/boost_1.78.0/boost/functional.hpp:454:62: warning: ‘template<class _Arg1, class _Arg2, class _Result> struct std::binary_function’ is deprecated [-Wdeprecated-declarations]\n",
      "  454 |     class mem_fun1_ref_t : public boost::functional::detail::binary_function<T&, A, S>\n",
      "      |                                                              ^~~~~~~~~~~~~~~\n",
      "/usr/include/c++/12.1.0/bits/stl_function.h:131:12: note: declared here\n",
      "  131 |     struct binary_function\n",
      "      |            ^~~~~~~~~~~~~~~\n",
      "stan/lib/stan_math/lib/boost_1.78.0/boost/functional.hpp:470:67: warning: ‘template<class _Arg, class _Result> struct std::unary_function’ is deprecated [-Wdeprecated-declarations]\n",
      "  470 |     class const_mem_fun_ref_t : public boost::functional::detail::unary_function<const T&, S>\n",
      "      |                                                                   ^~~~~~~~~~~~~~\n",
      "/usr/include/c++/12.1.0/bits/stl_function.h:117:12: note: declared here\n",
      "  117 |     struct unary_function\n",
      "      |            ^~~~~~~~~~~~~~\n",
      "stan/lib/stan_math/lib/boost_1.78.0/boost/functional.hpp:487:68: warning: ‘template<class _Arg1, class _Arg2, class _Result> struct std::binary_function’ is deprecated [-Wdeprecated-declarations]\n",
      "  487 |     class const_mem_fun1_ref_t : public boost::functional::detail::binary_function<const T&, A, S>\n",
      "      |                                                                    ^~~~~~~~~~~~~~~\n",
      "/usr/include/c++/12.1.0/bits/stl_function.h:131:12: note: declared here\n",
      "  131 |     struct binary_function\n",
      "      |            ^~~~~~~~~~~~~~~\n",
      "stan/lib/stan_math/lib/boost_1.78.0/boost/functional.hpp:533:73: warning: ‘template<class _Arg, class _Result> struct std::unary_function’ is deprecated [-Wdeprecated-declarations]\n",
      "  533 |     class pointer_to_unary_function : public boost::functional::detail::unary_function<Arg,Result>\n",
      "      |                                                                         ^~~~~~~~~~~~~~\n",
      "/usr/include/c++/12.1.0/bits/stl_function.h:117:12: note: declared here\n",
      "  117 |     struct unary_function\n",
      "      |            ^~~~~~~~~~~~~~\n",
      "stan/lib/stan_math/lib/boost_1.78.0/boost/functional.hpp:557:74: warning: ‘template<class _Arg1, class _Arg2, class _Result> struct std::binary_function’ is deprecated [-Wdeprecated-declarations]\n",
      "  557 |     class pointer_to_binary_function : public boost::functional::detail::binary_function<Arg1,Arg2,Result>\n",
      "      |                                                                          ^~~~~~~~~~~~~~~\n",
      "/usr/include/c++/12.1.0/bits/stl_function.h:131:12: note: declared here\n",
      "  131 |     struct binary_function\n",
      "      |            ^~~~~~~~~~~~~~~\n",
      "g++ -std=c++1y -pthread -D_REENTRANT -Wno-sign-compare -Wno-ignored-attributes     -DSTAN_THREADS -I stan/lib/stan_math/lib/tbb_2020.3/include    -O3 -I src -I stan/src -I lib/rapidjson_1.1.0/ -I lib/CLI11-1.9.1/ -I stan/lib/stan_math/ -I stan/lib/stan_math/lib/eigen_3.3.9 -I stan/lib/stan_math/lib/boost_1.78.0 -I stan/lib/stan_math/lib/sundials_6.1.1/include -I stan/lib/stan_math/lib/sundials_6.1.1/src/sundials    -DBOOST_DISABLE_ASSERTS                -Wl,-L,\"/home/chrobin/.cmdstan/cmdstan-2.30.1/stan/lib/stan_math/lib/tbb\" -Wl,-rpath,\"/home/chrobin/.cmdstan/cmdstan-2.30.1/stan/lib/stan_math/lib/tbb\"      /home/chrobin/Documents/zusammen/zusammen/stan_models/cpl_simple_chunked_gc.o src/cmdstan/main_threads.o        -Wl,-L,\"/home/chrobin/.cmdstan/cmdstan-2.30.1/stan/lib/stan_math/lib/tbb\" -Wl,-rpath,\"/home/chrobin/.cmdstan/cmdstan-2.30.1/stan/lib/stan_math/lib/tbb\"   stan/lib/stan_math/lib/sundials_6.1.1/lib/libsundials_nvecserial.a stan/lib/stan_math/lib/sundials_6.1.1/lib/libsundials_cvodes.a stan/lib/stan_math/lib/sundials_6.1.1/lib/libsundials_idas.a stan/lib/stan_math/lib/sundials_6.1.1/lib/libsundials_kinsol.a  stan/lib/stan_math/lib/tbb/libtbb.so.2 -o /home/chrobin/Documents/zusammen/zusammen/stan_models/cpl_simple_chunked_gc\n",
      "rm -f /home/chrobin/Documents/zusammen/zusammen/stan_models/cpl_simple_chunked_gc.o\n",
      "\n"
     ]
    }
   ],
   "source": [
    "m.build_model()"
   ]
  },
  {
   "cell_type": "code",
   "execution_count": 9,
   "metadata": {},
   "outputs": [
    {
     "name": "stderr",
     "output_type": "stream",
     "text": [
      "07:48:52 - cmdstanpy - INFO - CmdStan start processing\n"
     ]
    },
    {
     "data": {
      "application/vnd.jupyter.widget-view+json": {
       "model_id": "8cbd1c4c97f443c789757b61a9139ac7",
       "version_major": 2,
       "version_minor": 0
      },
      "text/plain": [
       "chain 1 |          | 00:00 Status"
      ]
     },
     "metadata": {},
     "output_type": "display_data"
    },
    {
     "data": {
      "application/vnd.jupyter.widget-view+json": {
       "model_id": "2039b8f6c0f2468cbf34f1ffa4a89a35",
       "version_major": 2,
       "version_minor": 0
      },
      "text/plain": [
       "chain 2 |          | 00:00 Status"
      ]
     },
     "metadata": {},
     "output_type": "display_data"
    },
    {
     "name": "stdout",
     "output_type": "stream",
     "text": [
      "                                                                                                                                                                "
     ]
    },
    {
     "name": "stderr",
     "output_type": "stream",
     "text": [
      "11:41:51 - cmdstanpy - INFO - CmdStan done processing.\n"
     ]
    },
    {
     "name": "stdout",
     "output_type": "stream",
     "text": [
      "\n"
     ]
    },
    {
     "name": "stderr",
     "output_type": "stream",
     "text": [
      "11:42:07 - cmdstanpy - WARNING - Non-fatal error during sampling:\n",
      "Exception: integrate: error estimate of integral 8.39823e-06 exceeds the given relative tolerance times norm of integral (in '/home/chrobin/Documents/zusammen/zusammen/stan_models/cpl_simple_chunked_gc.stan', line 150, column 4 to column 105)\n",
      "\tException: integrate: error estimate of integral 6.15044e-06 exceeds the given relative tolerance times norm of integral (in '/home/chrobin/Documents/zusammen/zusammen/stan_models/cpl_simple_chunked_gc.stan', line 150, column 4 to column 105)\n",
      "\tException: integrate: error estimate of integral 7.41529e-05 exceeds the given relative tolerance times norm of integral (in '/home/chrobin/Documents/zusammen/zusammen/stan_models/cpl_simple_chunked_gc.stan', line 150, column 4 to column 105)\n",
      "\tException: integrate: error estimate of integral 3.51033e-06 exceeds the given relative tolerance times norm of integral (in '/home/chrobin/Documents/zusammen/zusammen/stan_models/cpl_simple_chunked_gc.stan', line 150, column 4 to column 105)\n",
      "\tException: integrate: error estimate of integral 2.0665e-06 exceeds the given relative tolerance times norm of integral (in '/home/chrobin/Documents/zusammen/zusammen/stan_models/cpl_simple_chunked_gc.stan', line 150, column 4 to column 105)\n",
      "\tException: integrate: error estimate of integral 1.96301e-05 exceeds the given relative tolerance times norm of integral (in '/home/chrobin/Documents/zusammen/zusammen/stan_models/cpl_simple_chunked_gc.stan', line 150, column 4 to column 105)\n",
      "\tException: integrate: error estimate of integral 2.00489e-05 exceeds the given relative tolerance times norm of integral (in '/home/chrobin/Documents/zusammen/zusammen/stan_models/cpl_simple_chunked_gc.stan', line 150, column 4 to column 105)\n",
      "\tException: integrate: error estimate of integral 5.93477e-06 exceeds the given relative tolerance times norm of integral (in '/home/chrobin/Documents/zusammen/zusammen/stan_models/cpl_simple_chunked_gc.stan', line 150, column 4 to column 105)\n",
      "\tException: integrate: error estimate of integral 2.75485e-05 exceeds the given relative tolerance times norm of integral (in '/home/chrobin/Documents/zusammen/zusammen/stan_models/cpl_simple_chunked_gc.stan', line 150, column 4 to column 105)\n",
      "\tException: integrate: error estimate of integral 2.61076e-06 exceeds the given relative tolerance times norm of integral (in '/home/chrobin/Documents/zusammen/zusammen/stan_models/cpl_simple_chunked_gc.stan', line 150, column 4 to column 105)\n",
      "\tException: integrate: error estimate of integral 1.5395e-05 exceeds the given relative tolerance times norm of integral (in '/home/chrobin/Documents/zusammen/zusammen/stan_models/cpl_simple_chunked_gc.stan', line 150, column 4 to column 105)\n",
      "\tException: integrate: error estimate of integral 3.07528e-05 exceeds the given relative tolerance times norm of integral (in '/home/chrobin/Documents/zusammen/zusammen/stan_models/cpl_simple_chunked_gc.stan', line 150, column 4 to column 105)\n",
      "\tException: integrate: error estimate of integral 1.23726e-05 exceeds the given relative tolerance times norm of integral (in '/home/chrobin/Documents/zusammen/zusammen/stan_models/cpl_simple_chunked_gc.stan', line 150, column 4 to column 105)\n",
      "\tException: integrate: error estimate of integral 5.8503e-06 exceeds the given relative tolerance times norm of integral (in '/home/chrobin/Documents/zusammen/zusammen/stan_models/cpl_simple_chunked_gc.stan', line 150, column 4 to column 105)\n",
      "\tException: integrate: error estimate of integral 3.97844e-06 exceeds the given relative tolerance times norm of integral (in '/home/chrobin/Documents/zusammen/zusammen/stan_models/cpl_simple_chunked_gc.stan', line 150, column 4 to column 105)\n",
      "\tException: integrate: error estimate of integral 2.5007e-05 exceeds the given relative tolerance times norm of integral (in '/home/chrobin/Documents/zusammen/zusammen/stan_models/cpl_simple_chunked_gc.stan', line 150, column 4 to column 105)\n",
      "\tException: integrate: error estimate of integral 2.78924e-06 exceeds the given relative tolerance times norm of integral (in '/home/chrobin/Documents/zusammen/zusammen/stan_models/cpl_simple_chunked_gc.stan', line 150, column 4 to column 105)\n",
      "\tException: integrate: error estimate of integral 1.22282e-05 exceeds the given relative tolerance times norm of integral (in '/home/chrobin/Documents/zusammen/zusammen/stan_models/cpl_simple_chunked_gc.stan', line 150, column 4 to column 105)\n",
      "\tException: integrate: error estimate of integral 5.94675e-06 exceeds the given relative tolerance times norm of integral (in '/home/chrobin/Documents/zusammen/zusammen/stan_models/cpl_simple_chunked_gc.stan', line 150, column 4 to column 105)\n",
      "\tException: integrate: error estimate of integral 3.35698e-05 exceeds the given relative tolerance times norm of integral (in '/home/chrobin/Documents/zusammen/zusammen/stan_models/cpl_simple_chunked_gc.stan', line 150, column 4 to column 105)\n",
      "\tException: integrate: error estimate of integral 2.02677e-05 exceeds the given relative tolerance times norm of integral (in '/home/chrobin/Documents/zusammen/zusammen/stan_models/cpl_simple_chunked_gc.stan', line 150, column 4 to column 105)\n",
      "\tException: integrate: error estimate of integral 2.34116e-05 exceeds the given relative tolerance times norm of integral (in '/home/chrobin/Documents/zusammen/zusammen/stan_models/cpl_simple_chunked_gc.stan', line 150, column 4 to column 105)\n",
      "\tException: integrate: error estimate of integral 2.82267e-05 exceeds the given relative tolerance times norm of integral (in '/home/chrobin/Documents/zusammen/zusammen/stan_models/cpl_simple_chunked_gc.stan', line 150, column 4 to column 105)\n",
      "\tException: integrate: error estimate of integral 5.50083e-06 exceeds the given relative tolerance times norm of integral (in '/home/chrobin/Documents/zusammen/zusammen/stan_models/cpl_simple_chunked_gc.stan', line 150, column 4 to column 105)\n",
      "\tException: integrate: error estimate of integral 3.41716e-05 exceeds the given relative tolerance times norm of integral (in '/home/chrobin/Documents/zusammen/zusammen/stan_models/cpl_simple_chunked_gc.stan', line 150, column 4 to column 105)\n",
      "\tException: integrate: error estimate of integral 2.22069e-05 exceeds the given relative tolerance times norm of integral (in '/home/chrobin/Documents/zusammen/zusammen/stan_models/cpl_simple_chunked_gc.stan', line 150, column 4 to column 105)\n",
      "\tException: integrate: error estimate of integral 1.98685e-05 exceeds the given relative tolerance times norm of integral (in '/home/chrobin/Documents/zusammen/zusammen/stan_models/cpl_simple_chunked_gc.stan', line 150, column 4 to column 105)\n",
      "\tException: integrate: error estimate of integral 3.04213e-05 exceeds the given relative tolerance times norm of integral (in '/home/chrobin/Documents/zusammen/zusammen/stan_models/cpl_simple_chunked_gc.stan', line 150, column 4 to column 105)\n",
      "\tException: integrate: error estimate of integral 1.17422e-05 exceeds the given relative tolerance times norm of integral (in '/home/chrobin/Documents/zusammen/zusammen/stan_models/cpl_simple_chunked_gc.stan', line 150, column 4 to column 105)\n",
      "\tException: integrate: error estimate of integral 2.43357e-06 exceeds the given relative tolerance times norm of integral (in '/home/chrobin/Documents/zusammen/zusammen/stan_models/cpl_simple_chunked_gc.stan', line 150, column 4 to column 105)\n",
      "\tException: integrate: error estimate of integral 5.90982e-05 exceeds the given relative tolerance times norm of integral (in '/home/chrobin/Documents/zusammen/zusammen/stan_models/cpl_simple_chunked_gc.stan', line 150, column 4 to column 105)\n",
      "\tException: integrate: error estimate of integral 4.47606e-06 exceeds the given relative tolerance times norm of integral (in '/home/chrobin/Documents/zusammen/zusammen/stan_models/cpl_simple_chunked_gc.stan', line 150, column 4 to column 105)\n",
      "\tException: integrate: error estimate of integral 1.01444e-05 exceeds the given relative tolerance times norm of integral (in '/home/chrobin/Documents/zusammen/zusammen/stan_models/cpl_simple_chunked_gc.stan', line 150, column 4 to column 105)\n",
      "\tException: integrate: error estimate of integral 9.26024e-06 exceeds the given relative tolerance times norm of integral (in '/home/chrobin/Documents/zusammen/zusammen/stan_models/cpl_simple_chunked_gc.stan', line 150, column 4 to column 105)\n",
      "\tException: integrate: error estimate of integral 6.6532e-05 exceeds the given relative tolerance times norm of integral (in '/home/chrobin/Documents/zusammen/zusammen/stan_models/cpl_simple_chunked_gc.stan', line 150, column 4 to column 105)\n",
      "\tException: integrate: error estimate of integral 3.3046e-06 exceeds the given relative tolerance times norm of integral (in '/home/chrobin/Documents/zusammen/zusammen/stan_models/cpl_simple_chunked_gc.stan', line 150, column 4 to column 105)\n",
      "\tException: integrate: error estimate of integral 7.22887e-05 exceeds the given relative tolerance times norm of integral (in '/home/chrobin/Documents/zusammen/zusammen/stan_models/cpl_simple_chunked_gc.stan', line 150, column 4 to column 105)\n",
      "\tException: integrate: error estimate of integral 1.6072e-05 exceeds the given relative tolerance times norm of integral (in '/home/chrobin/Documents/zusammen/zusammen/stan_models/cpl_simple_chunked_gc.stan', line 150, column 4 to column 105)\n",
      "\tException: integrate: error estimate of integral 1.66902e-06 exceeds the given relative tolerance times norm of integral (in '/home/chrobin/Documents/zusammen/zusammen/stan_models/cpl_simple_chunked_gc.stan', line 150, column 4 to column 105)\n",
      "\tException: integrate: error estimate of integral 4.32798e-06 exceeds the given relative tolerance times norm of integral (in '/home/chrobin/Documents/zusammen/zusammen/stan_models/cpl_simple_chunked_gc.stan', line 150, column 4 to column 105)\n",
      "\tException: integrate: error estimate of integral 6.86736e-05 exceeds the given relative tolerance times norm of integral (in '/home/chrobin/Documents/zusammen/zusammen/stan_models/cpl_simple_chunked_gc.stan', line 150, column 4 to column 105)\n",
      "\tException: integrate: error estimate of integral 7.48131e-06 exceeds the given relative tolerance times norm of integral (in '/home/chrobin/Documents/zusammen/zusammen/stan_models/cpl_simple_chunked_gc.stan', line 150, column 4 to column 105)\n",
      "\tException: integrate: error estimate of integral 2.93493e-06 exceeds the given relative tolerance times norm of integral (in '/home/chrobin/Documents/zusammen/zusammen/stan_models/cpl_simple_chunked_gc.stan', line 150, column 4 to column 105)\n",
      "\tException: integrate: error estimate of integral 2.85897e-05 exceeds the given relative tolerance times norm of integral (in '/home/chrobin/Documents/zusammen/zusammen/stan_models/cpl_simple_chunked_gc.stan', line 150, column 4 to column 105)\n",
      "\tException: integrate: error estimate of integral 3.07744e-05 exceeds the given relative tolerance times norm of integral (in '/home/chrobin/Documents/zusammen/zusammen/stan_models/cpl_simple_chunked_gc.stan', line 150, column 4 to column 105)\n",
      "\tException: integrate: error estimate of integral 4.12381e-06 exceeds the given relative tolerance times norm of integral (in '/home/chrobin/Documents/zusammen/zusammen/stan_models/cpl_simple_chunked_gc.stan', line 150, column 4 to column 105)\n",
      "\tException: integrate: error estimate of integral 4.54429e-06 exceeds the given relative tolerance times norm of integral (in '/home/chrobin/Documents/zusammen/zusammen/stan_models/cpl_simple_chunked_gc.stan', line 150, column 4 to column 105)\n",
      "\tException: integrate: error estimate of integral 4.03085e-06 exceeds the given relative tolerance times norm of integral (in '/home/chrobin/Documents/zusammen/zusammen/stan_models/cpl_simple_chunked_gc.stan', line 150, column 4 to column 105)\n",
      "\tException: integrate: error estimate of integral 6.3541e-05 exceeds the given relative tolerance times norm of integral (in '/home/chrobin/Documents/zusammen/zusammen/stan_models/cpl_simple_chunked_gc.stan', line 150, column 4 to column 105)\n",
      "\tException: integrate: error estimate of integral 1.70508e-05 exceeds the given relative tolerance times norm of integral (in '/home/chrobin/Documents/zusammen/zusammen/stan_models/cpl_simple_chunked_gc.stan', line 150, column 4 to column 105)\n",
      "\tException: integrate: error estimate of integral 2.64013e-05 exceeds the given relative tolerance times norm of integral (in '/home/chrobin/Documents/zusammen/zusammen/stan_models/cpl_simple_chunked_gc.stan', line 150, column 4 to column 105)\n",
      "\tException: integrate: error estimate of integral 2.19478e-05 exceeds the given relative tolerance times norm of integral (in '/home/chrobin/Documents/zusammen/zusammen/stan_models/cpl_simple_chunked_gc.stan', line 150, column 4 to column 105)\n",
      "\tException: integrate: error estimate of integral 1.63923e-05 exceeds the given relative tolerance times norm of integral (in '/home/chrobin/Documents/zusammen/zusammen/stan_models/cpl_simple_chunked_gc.stan', line 150, column 4 to column 105)\n",
      "\tException: integrate: error estimate of integral 5.69489e-06 exceeds the given relative tolerance times norm of integral (in '/home/chrobin/Documents/zusammen/zusammen/stan_models/cpl_simple_chunked_gc.stan', line 150, column 4 to column 105)\n",
      "\tException: integrate: error estimate of integral 1.28144e-05 exceeds the given relative tolerance times norm of integral (in '/home/chrobin/Documents/zusammen/zusammen/stan_models/cpl_simple_chunked_gc.stan', line 150, column 4 to column 105)\n",
      "\tException: integrate: error estimate of integral 1.05766e-05 exceeds the given relative tolerance times norm of integral (in '/home/chrobin/Documents/zusammen/zusammen/stan_models/cpl_simple_chunked_gc.stan', line 150, column 4 to column 105)\n",
      "\tException: integrate: error estimate of integral 1.06675e-05 exceeds the given relative tolerance times norm of integral (in '/home/chrobin/Documents/zusammen/zusammen/stan_models/cpl_simple_chunked_gc.stan', line 150, column 4 to column 105)\n",
      "\tException: integrate: error estimate of integral 3.00922e-05 exceeds the given relative tolerance times norm of integral (in '/home/chrobin/Documents/zusammen/zusammen/stan_models/cpl_simple_chunked_gc.stan', line 150, column 4 to column 105)\n",
      "\tException: integrate: error estimate of integral 5.27018e-06 exceeds the given relative tolerance times norm of integral (in '/home/chrobin/Documents/zusammen/zusammen/stan_models/cpl_simple_chunked_gc.stan', line 150, column 4 to column 105)\n",
      "\tException: integrate: error estimate of integral 6.66758e-05 exceeds the given relative tolerance times norm of integral (in '/home/chrobin/Documents/zusammen/zusammen/stan_models/cpl_simple_chunked_gc.stan', line 150, column 4 to column 105)\n",
      "\tException: integrate: error estimate of integral 2.8787e-05 exceeds the given relative tolerance times norm of integral (in '/home/chrobin/Documents/zusammen/zusammen/stan_models/cpl_simple_chunked_gc.stan', line 150, column 4 to column 105)\n",
      "\tException: integrate: error estimate of integral 5.74116e-06 exceeds the given relative tolerance times norm of integral (in '/home/chrobin/Documents/zusammen/zusammen/stan_models/cpl_simple_chunked_gc.stan', line 150, column 4 to column 105)\n",
      "\tException: integrate: error estimate of integral 3.04089e-06 exceeds the given relative tolerance times norm of integral (in '/home/chrobin/Documents/zusammen/zusammen/stan_models/cpl_simple_chunked_gc.stan', line 150, column 4 to column 105)\n",
      "\tException: integrate: error estimate of integral 6.97272e-05 exceeds the given relative tolerance times norm of integral (in '/home/chrobin/Documents/zusammen/zusammen/stan_models/cpl_simple_chunked_gc.stan', line 150, column 4 to column 105)\n",
      "\tException: integrate: error estimate of integral 1.79915e-05 exceeds the given relative tolerance times norm of integral (in '/home/chrobin/Documents/zusammen/zusammen/stan_models/cpl_simple_chunked_gc.stan', line 150, column 4 to column 105)\n",
      "\tException: integrate: error estimate of integral 1.63624e-06 exceeds the given relative tolerance times norm of integral (in '/home/chrobin/Documents/zusammen/zusammen/stan_models/cpl_simple_chunked_gc.stan', line 150, column 4 to column 105)\n",
      "\tException: integrate: error estimate of integral 1.5453e-05 exceeds the given relative tolerance times norm of integral (in '/home/chrobin/Documents/zusammen/zusammen/stan_models/cpl_simple_chunked_gc.stan', line 150, column 4 to column 105)\n",
      "\tException: integrate: error estimate of integral 1.62194e-05 exceeds the given relative tolerance times norm of integral (in '/home/chrobin/Documents/zusammen/zusammen/stan_models/cpl_simple_chunked_gc.stan', line 150, column 4 to column 105)\n",
      "\tException: integrate: error estimate of integral 8.24543e-06 exceeds the given relative tolerance times norm of integral (in '/home/chrobin/Documents/zusammen/zusammen/stan_models/cpl_simple_chunked_gc.stan', line 150, column 4 to column 105)\n",
      "\tException: integrate: error estimate of integral 7.06195e-05 exceeds the given relative tolerance times norm of integral (in '/home/chrobin/Documents/zusammen/zusammen/stan_models/cpl_simple_chunked_gc.stan', line 150, column 4 to column 105)\n",
      "\tException: integrate: error estimate of integral 4.43423e-06 exceeds the given relative tolerance times norm of integral (in '/home/chrobin/Documents/zusammen/zusammen/stan_models/cpl_simple_chunked_gc.stan', line 150, column 4 to column 105)\n",
      "\tException: integrate: error estimate of integral 3.66701e-06 exceeds the given relative tolerance times norm of integral (in '/home/chrobin/Documents/zusammen/zusammen/stan_models/cpl_simple_chunked_gc.stan', line 150, column 4 to column 105)\n",
      "\tException: integrate: error estimate of integral 3.79592e-06 exceeds the given relative tolerance times norm of integral (in '/home/chrobin/Documents/zusammen/zusammen/stan_models/cpl_simple_chunked_gc.stan', line 150, column 4 to column 105)\n",
      "\tException: integrate: error estimate of integral 1.88268e-05 exceeds the given relative tolerance times norm of integral (in '/home/chrobin/Documents/zusammen/zusammen/stan_models/cpl_simple_chunked_gc.stan', line 150, column 4 to column 105)\n",
      "\tException: integrate: error estimate of integral 6.64182e-06 exceeds the given relative tolerance times norm of integral (in '/home/chrobin/Documents/zusammen/zusammen/stan_models/cpl_simple_chunked_gc.stan', line 150, column 4 to column 105)\n",
      "\tException: integrate: error estimate of integral 1.82649e-06 exceeds the given relative tolerance times norm of integral (in '/home/chrobin/Documents/zusammen/zusammen/stan_models/cpl_simple_chunked_gc.stan', line 150, column 4 to column 105)\n",
      "\tException: integrate: error estimate of integral 1.67892e-06 exceeds the given relative tolerance times norm of integral (in '/home/chrobin/Documents/zusammen/zusammen/stan_models/cpl_simple_chunked_gc.stan', line 150, column 4 to column 105)\n",
      "\tException: integrate: error estimate of integral 3.50928e-06 exceeds the given relative tolerance times norm of integral (in '/home/chrobin/Documents/zusammen/zusammen/stan_models/cpl_simple_chunked_gc.stan', line 150, column 4 to column 105)\n",
      "\tException: integrate: error estimate of integral 3.51563e-06 exceeds the given relative tolerance times norm of integral (in '/home/chrobin/Documents/zusammen/zusammen/stan_models/cpl_simple_chunked_gc.stan', line 150, column 4 to column 105)\n",
      "\tException: integrate: error estimate of integral 2.0755e-05 exceeds the given relative tolerance times norm of integral (in '/home/chrobin/Documents/zusammen/zusammen/stan_models/cpl_simple_chunked_gc.stan', line 150, column 4 to column 105)\n",
      "\tException: integrate: error estimate of integral 4.18667e-06 exceeds the given relative tolerance times norm of integral (in '/home/chrobin/Documents/zusammen/zusammen/stan_models/cpl_simple_chunked_gc.stan', line 150, column 4 to column 105)\n",
      "\tException: integrate: error estimate of integral 4.86613e-06 exceeds the given relative tolerance times norm of integral (in '/home/chrobin/Documents/zusammen/zusammen/stan_models/cpl_simple_chunked_gc.stan', line 150, column 4 to column 105)\n",
      "\tException: integrate: error estimate of integral 6.32273e-06 exceeds the given relative tolerance times norm of integral (in '/home/chrobin/Documents/zusammen/zusammen/stan_models/cpl_simple_chunked_gc.stan', line 150, column 4 to column 105)\n",
      "\tException: integrate: error estimate of integral 2.24697e-05 exceeds the given relative tolerance times norm of integral (in '/home/chrobin/Documents/zusammen/zusammen/stan_models/cpl_simple_chunked_gc.stan', line 150, column 4 to column 105)\n",
      "\tException: integrate: error estimate of integral 2.09197e-06 exceeds the given relative tolerance times norm of integral (in '/home/chrobin/Documents/zusammen/zusammen/stan_models/cpl_simple_chunked_gc.stan', line 150, column 4 to column 105)\n",
      "\tException: integrate: error estimate of integral 7.29179e-06 exceeds the given relative tolerance times norm of integral (in '/home/chrobin/Documents/zusammen/zusammen/stan_models/cpl_simple_chunked_gc.stan', line 150, column 4 to column 105)\n",
      "\tException: integrate: error estimate of integral 4.1169e-06 exceeds the given relative tolerance times norm of integral (in '/home/chrobin/Documents/zusammen/zusammen/stan_models/cpl_simple_chunked_gc.stan', line 150, column 4 to column 105)\n",
      "\tException: integrate: error estimate of integral 3.02509e-06 exceeds the given relative tolerance times norm of integral (in '/home/chrobin/Documents/zusammen/zusammen/stan_models/cpl_simple_chunked_gc.stan', line 150, column 4 to column 105)\n",
      "\tException: integrate: error estimate of integral 3.93645e-06 exceeds the given relative tolerance times norm of integral (in '/home/chrobin/Documents/zusammen/zusammen/stan_models/cpl_simple_chunked_gc.stan', line 150, column 4 to column 105)\n",
      "\tException: integrate: error estimate of integral 1.6337e-06 exceeds the given relative tolerance times norm of integral (in '/home/chrobin/Documents/zusammen/zusammen/stan_models/cpl_simple_chunked_gc.stan', line 150, column 4 to column 105)\n",
      "\tException: integrate: error estimate of integral 6.26531e-06 exceeds the given relative tolerance times norm of integral (in '/home/chrobin/Documents/zusammen/zusammen/stan_models/cpl_simple_chunked_gc.stan', line 150, column 4 to column 105)\n",
      "\tException: integrate: error estimate of integral 4.10787e-06 exceeds the given relative tolerance times norm of integral (in '/home/chrobin/Documents/zusammen/zusammen/stan_models/cpl_simple_chunked_gc.stan', line 150, column 4 to column 105)\n",
      "\tException: integrate: error estimate of integral 1.47066e-05 exceeds the given relative tolerance times norm of integral (in '/home/chrobin/Documents/zusammen/zusammen/stan_models/cpl_simple_chunked_gc.stan', line 150, column 4 to column 105)\n",
      "\tException: integrate: error estimate of integral 3.0658e-06 exceeds the given relative tolerance times norm of integral (in '/home/chrobin/Documents/zusammen/zusammen/stan_models/cpl_simple_chunked_gc.stan', line 150, column 4 to column 105)\n",
      "\tException: integrate: error estimate of integral 1.2592e-05 exceeds the given relative tolerance times norm of integral (in '/home/chrobin/Documents/zusammen/zusammen/stan_models/cpl_simple_chunked_gc.stan', line 150, column 4 to column 105)\n",
      "\tException: integrate: error estimate of integral 5.27989e-06 exceeds the given relative tolerance times norm of integral (in '/home/chrobin/Documents/zusammen/zusammen/stan_models/cpl_simple_chunked_gc.stan', line 150, column 4 to column 105)\n",
      "\tException: integrate: error estimate of integral 2.68078e-06 exceeds the given relative tolerance times norm of integral (in '/home/chrobin/Documents/zusammen/zusammen/stan_models/cpl_simple_chunked_gc.stan', line 150, column 4 to column 105)\n",
      "\tException: integrate: error estimate of integral 1.77421e-05 exceeds the given relative tolerance times norm of integral (in '/home/chrobin/Documents/zusammen/zusammen/stan_models/cpl_simple_chunked_gc.stan', line 150, column 4 to column 105)\n",
      "\tException: integrate: error estimate of integral 3.96033e-06 exceeds the given relative tolerance times norm of integral (in '/home/chrobin/Documents/zusammen/zusammen/stan_models/cpl_simple_chunked_gc.stan', line 150, column 4 to column 105)\n",
      "\tException: integrate: error estimate of integral 3.74418e-06 exceeds the given relative tolerance times norm of integral (in '/home/chrobin/Documents/zusammen/zusammen/stan_models/cpl_simple_chunked_gc.stan', line 150, column 4 to column 105)\n",
      "\tException: integrate: error estimate of integral 1.91213e-05 exceeds the given relative tolerance times norm of integral (in '/home/chrobin/Documents/zusammen/zusammen/stan_models/cpl_simple_chunked_gc.stan', line 150, column 4 to column 105)\n",
      "\tException: integrate: error estimate of integral 7.97902e-06 exceeds the given relative tolerance times norm of integral (in '/home/chrobin/Documents/zusammen/zusammen/stan_models/cpl_simple_chunked_gc.stan', line 150, column 4 to column 105)\n",
      "\tException: integrate: error estimate of integral 5.13859e-06 exceeds the given relative tolerance times norm of integral (in '/home/chrobin/Documents/zusammen/zusammen/stan_models/cpl_simple_chunked_gc.stan', line 150, column 4 to column 105)\n",
      "\tException: integrate: error estimate of integral 2.60304e-06 exceeds the given relative tolerance times norm of integral (in '/home/chrobin/Documents/zusammen/zusammen/stan_models/cpl_simple_chunked_gc.stan', line 150, column 4 to column 105)\n",
      "\tException: integrate: error estimate of integral 2.21932e-05 exceeds the given relative tolerance times norm of integral (in '/home/chrobin/Documents/zusammen/zusammen/stan_models/cpl_simple_chunked_gc.stan', line 150, column 4 to column 105)\n",
      "\tException: integrate: error estimate of integral 1.00033e-05 exceeds the given relative tolerance times norm of integral (in '/home/chrobin/Documents/zusammen/zusammen/stan_models/cpl_simple_chunked_gc.stan', line 150, column 4 to column 105)\n",
      "\tException: integrate: error estimate of integral 2.42335e-05 exceeds the given relative tolerance times norm of integral (in '/home/chrobin/Documents/zusammen/zusammen/stan_models/cpl_simple_chunked_gc.stan', line 150, column 4 to column 105)\n",
      "\tException: integrate: error estimate of integral 2.84511e-06 exceeds the given relative tolerance times norm of integral (in '/home/chrobin/Documents/zusammen/zusammen/stan_models/cpl_simple_chunked_gc.stan', line 150, column 4 to column 105)\n",
      "\tException: integrate: error estimate of integral 3.67146e-06 exceeds the given relative tolerance times norm of integral (in '/home/chrobin/Documents/zusammen/zusammen/stan_models/cpl_simple_chunked_gc.stan', line 150, column 4 to column 105)\n",
      "\tException: integrate: error estimate of integral 1.49279e-05 exceeds the given relative tolerance times norm of integral (in '/home/chrobin/Documents/zusammen/zusammen/stan_models/cpl_simple_chunked_gc.stan', line 150, column 4 to column 105)\n",
      "\tException: integrate: error estimate of integral 7.27572e-05 exceeds the given relative tolerance times norm of integral (in '/home/chrobin/Documents/zusammen/zusammen/stan_models/cpl_simple_chunked_gc.stan', line 150, column 4 to column 105)\n",
      "\tException: integrate: error estimate of integral 3.53431e-06 exceeds the given relative tolerance times norm of integral (in '/home/chrobin/Documents/zusammen/zusammen/stan_models/cpl_simple_chunked_gc.stan', line 150, column 4 to column 105)\n",
      "\tException: integrate: error estimate of integral 3.0458e-05 exceeds the given relative tolerance times norm of integral (in '/home/chrobin/Documents/zusammen/zusammen/stan_models/cpl_simple_chunked_gc.stan', line 150, column 4 to column 105)\n",
      "\tException: integrate: error estimate of integral 4.51204e-06 exceeds the given relative tolerance times norm of integral (in '/home/chrobin/Documents/zusammen/zusammen/stan_models/cpl_simple_chunked_gc.stan', line 150, column 4 to column 105)\n",
      "\tException: integrate: error estimate of integral 4.2073e-06 exceeds the given relative tolerance times norm of integral (in '/home/chrobin/Documents/zusammen/zusammen/stan_models/cpl_simple_chunked_gc.stan', line 150, column 4 to column 105)\n",
      "\tException: integrate: error estimate of integral 6.26843e-05 exceeds the given relative tolerance times norm of integral (in '/home/chrobin/Documents/zusammen/zusammen/stan_models/cpl_simple_chunked_gc.stan', line 150, column 4 to column 105)\n",
      "\tException: integrate: error estimate of integral 1.02849e-05 exceeds the given relative tolerance times norm of integral (in '/home/chrobin/Documents/zusammen/zusammen/stan_models/cpl_simple_chunked_gc.stan', line 150, column 4 to column 105)\n",
      "\tException: integrate: error estimate of integral 1.7276e-05 exceeds the given relative tolerance times norm of integral (in '/home/chrobin/Documents/zusammen/zusammen/stan_models/cpl_simple_chunked_gc.stan', line 150, column 4 to column 105)\n",
      "\tException: integrate: error estimate of integral 6.49319e-06 exceeds the given relative tolerance times norm of integral (in '/home/chrobin/Documents/zusammen/zusammen/stan_models/cpl_simple_chunked_gc.stan', line 150, column 4 to column 105)\n",
      "\tException: integrate: error estimate of integral 1.37581e-05 exceeds the given relative tolerance times norm of integral (in '/home/chrobin/Documents/zusammen/zusammen/stan_models/cpl_simple_chunked_gc.stan', line 150, column 4 to column 105)\n",
      "\tException: integrate: error estimate of integral 2.76743e-06 exceeds the given relative tolerance times norm of integral (in '/home/chrobin/Documents/zusammen/zusammen/stan_models/cpl_simple_chunked_gc.stan', line 150, column 4 to column 105)\n",
      "\tException: integrate: error estimate of integral 7.50779e-06 exceeds the given relative tolerance times norm of integral (in '/home/chrobin/Documents/zusammen/zusammen/stan_models/cpl_simple_chunked_gc.stan', line 150, column 4 to column 105)\n",
      "\tException: integrate: error estimate of integral 8.943e-06 exceeds the given relative tolerance times norm of integral (in '/home/chrobin/Documents/zusammen/zusammen/stan_models/cpl_simple_chunked_gc.stan', line 150, column 4 to column 105)\n",
      "\tException: integrate: error estimate of integral 5.44412e-05 exceeds the given relative tolerance times norm of integral (in '/home/chrobin/Documents/zusammen/zusammen/stan_models/cpl_simple_chunked_gc.stan', line 150, column 4 to column 105)\n",
      "\tException: integrate: error estimate of integral 7.2832e-05 exceeds the given relative tolerance times norm of integral (in '/home/chrobin/Documents/zusammen/zusammen/stan_models/cpl_simple_chunked_gc.stan', line 150, column 4 to column 105)\n",
      "\tException: integrate: error estimate of integral 2.34138e-06 exceeds the given relative tolerance times norm of integral (in '/home/chrobin/Documents/zusammen/zusammen/stan_models/cpl_simple_chunked_gc.stan', line 150, column 4 to column 105)\n",
      "\tException: integrate: error estimate of integral 6.118e-06 exceeds the given relative tolerance times norm of integral (in '/home/chrobin/Documents/zusammen/zusammen/stan_models/cpl_simple_chunked_gc.stan', line 150, column 4 to column 105)\n",
      "\tException: integrate: error estimate of integral 6.73159e-06 exceeds the given relative tolerance times norm of integral (in '/home/chrobin/Documents/zusammen/zusammen/stan_models/cpl_simple_chunked_gc.stan', line 150, column 4 to column 105)\n",
      "\tException: integrate: error estimate of integral 3.70341e-06 exceeds the given relative tolerance times norm of integral (in '/home/chrobin/Documents/zusammen/zusammen/stan_models/cpl_simple_chunked_gc.stan', line 150, column 4 to column 105)\n",
      "\tException: integrate: error estimate of integral 1.89984e-05 exceeds the given relative tolerance times norm of integral (in '/home/chrobin/Documents/zusammen/zusammen/stan_models/cpl_simple_chunked_gc.stan', line 150, column 4 to column 105)\n",
      "\tException: integrate: error estimate of integral 2.2274e-06 exceeds the given relative tolerance times norm of integral (in '/home/chrobin/Documents/zusammen/zusammen/stan_models/cpl_simple_chunked_gc.stan', line 150, column 4 to column 105)\n",
      "\tException: integrate: error estimate of integral 5.7679e-06 exceeds the given relative tolerance times norm of integral (in '/home/chrobin/Documents/zusammen/zusammen/stan_models/cpl_simple_chunked_gc.stan', line 150, column 4 to column 105)\n",
      "\tException: integrate: error estimate of integral 1.43729e-06 exceeds the given relative tolerance times norm of integral (in '/home/chrobin/Documents/zusammen/zusammen/stan_models/cpl_simple_chunked_gc.stan', line 150, column 4 to column 105)\n",
      "\tException: integrate: error estimate of integral 1.02803e-05 exceeds the given relative tolerance times norm of integral (in '/home/chrobin/Documents/zusammen/zusammen/stan_models/cpl_simple_chunked_gc.stan', line 150, column 4 to column 105)\n",
      "\tException: integrate: error estimate of integral 2.83898e-05 exceeds the given relative tolerance times norm of integral (in '/home/chrobin/Documents/zusammen/zusammen/stan_models/cpl_simple_chunked_gc.stan', line 150, column 4 to column 105)\n",
      "\tException: integrate: error estimate of integral 4.51269e-06 exceeds the given relative tolerance times norm of integral (in '/home/chrobin/Documents/zusammen/zusammen/stan_models/cpl_simple_chunked_gc.stan', line 150, column 4 to column 105)\n",
      "\tException: integrate: error estimate of integral 3.34891e-06 exceeds the given relative tolerance times norm of integral (in '/home/chrobin/Documents/zusammen/zusammen/stan_models/cpl_simple_chunked_gc.stan', line 150, column 4 to column 105)\n",
      "\tException: integrate: error estimate of integral 1.59469e-05 exceeds the given relative tolerance times norm of integral (in '/home/chrobin/Documents/zusammen/zusammen/stan_models/cpl_simple_chunked_gc.stan', line 150, column 4 to column 105)\n",
      "\tException: integrate: error estimate of integral 2.51608e-05 exceeds the given relative tolerance times norm of integral (in '/home/chrobin/Documents/zusammen/zusammen/stan_models/cpl_simple_chunked_gc.stan', line 150, column 4 to column 105)\n",
      "\tException: integrate: error estimate of integral 2.93092e-05 exceeds the given relative tolerance times norm of integral (in '/home/chrobin/Documents/zusammen/zusammen/stan_models/cpl_simple_chunked_gc.stan', line 150, column 4 to column 105)\n",
      "\tException: integrate: error estimate of integral 1.17754e-05 exceeds the given relative tolerance times norm of integral (in '/home/chrobin/Documents/zusammen/zusammen/stan_models/cpl_simple_chunked_gc.stan', line 150, column 4 to column 105)\n",
      "\tException: integrate: error estimate of integral 1.95026e-06 exceeds the given relative tolerance times norm of integral (in '/home/chrobin/Documents/zusammen/zusammen/stan_models/cpl_simple_chunked_gc.stan', line 150, column 4 to column 105)\n",
      "\tException: integrate: error estimate of integral 1.71264e-05 exceeds the given relative tolerance times norm of integral (in '/home/chrobin/Documents/zusammen/zusammen/stan_models/cpl_simple_chunked_gc.stan', line 150, column 4 to column 105)\n",
      "\tException: integrate: error estimate of integral 5.71187e-06 exceeds the given relative tolerance times norm of integral (in '/home/chrobin/Documents/zusammen/zusammen/stan_models/cpl_simple_chunked_gc.stan', line 150, column 4 to column 105)\n",
      "\tException: integrate: error estimate of integral 1.99194e-05 exceeds the given relative tolerance times norm of integral (in '/home/chrobin/Documents/zusammen/zusammen/stan_models/cpl_simple_chunked_gc.stan', line 150, column 4 to column 105)\n",
      "\tException: integrate: error estimate of integral 2.48784e-06 exceeds the given relative tolerance times norm of integral (in '/home/chrobin/Documents/zusammen/zusammen/stan_models/cpl_simple_chunked_gc.stan', line 150, column 4 to column 105)\n",
      "\tException: integrate: error estimate of integral 3.8315e-06 exceeds the given relative tolerance times norm of integral (in '/home/chrobin/Documents/zusammen/zusammen/stan_models/cpl_simple_chunked_gc.stan', line 150, column 4 to column 105)\n",
      "\tException: integrate: error estimate of integral 1.19088e-05 exceeds the given relative tolerance times norm of integral (in '/home/chrobin/Documents/zusammen/zusammen/stan_models/cpl_simple_chunked_gc.stan', line 150, column 4 to column 105)\n",
      "\tException: integrate: error estimate of integral 6.02074e-05 exceeds the given relative tolerance times norm of integral (in '/home/chrobin/Documents/zusammen/zusammen/stan_models/cpl_simple_chunked_gc.stan', line 150, column 4 to column 105)\n",
      "\tException: integrate: error estimate of integral 2.5454e-05 exceeds the given relative tolerance times norm of integral (in '/home/chrobin/Documents/zusammen/zusammen/stan_models/cpl_simple_chunked_gc.stan', line 150, column 4 to column 105)\n",
      "\tException: integrate: error estimate of integral 4.91606e-06 exceeds the given relative tolerance times norm of integral (in '/home/chrobin/Documents/zusammen/zusammen/stan_models/cpl_simple_chunked_gc.stan', line 150, column 4 to column 105)\n",
      "\tException: integrate: error estimate of integral 3.99406e-05 exceeds the given relative tolerance times norm of integral (in '/home/chrobin/Documents/zusammen/zusammen/stan_models/cpl_simple_chunked_gc.stan', line 150, column 4 to column 105)\n",
      "\tException: integrate: error estimate of integral 5.07429e-05 exceeds the given relative tolerance times norm of integral (in '/home/chrobin/Documents/zusammen/zusammen/stan_models/cpl_simple_chunked_gc.stan', line 150, column 4 to column 105)\n",
      "\tException: integrate: error estimate of integral 2.0088e-06 exceeds the given relative tolerance times norm of integral (in '/home/chrobin/Documents/zusammen/zusammen/stan_models/cpl_simple_chunked_gc.stan', line 150, column 4 to column 105)\n",
      "\tException: integrate: error estimate of integral 1.91307e-05 exceeds the given relative tolerance times norm of integral (in '/home/chrobin/Documents/zusammen/zusammen/stan_models/cpl_simple_chunked_gc.stan', line 150, column 4 to column 105)\n",
      "\tException: integrate: error estimate of integral 6.89828e-05 exceeds the given relative tolerance times norm of integral (in '/home/chrobin/Documents/zusammen/zusammen/stan_models/cpl_simple_chunked_gc.stan', line 150, column 4 to column 105)\n",
      "\tException: integrate: error estimate of integral 2.27693e-06 exceeds the given relative tolerance times norm of integral (in '/home/chrobin/Documents/zusammen/zusammen/stan_models/cpl_simple_chunked_gc.stan', line 150, column 4 to column 105)\n",
      "\tException: integrate: error estimate of integral 5.25895e-06 exceeds the given relative tolerance times norm of integral (in '/home/chrobin/Documents/zusammen/zusammen/stan_models/cpl_simple_chunked_gc.stan', line 150, column 4 to column 105)\n",
      "\tException: integrate: error estimate of integral 6.03348e-05 exceeds the given relative tolerance times norm of integral (in '/home/chrobin/Documents/zusammen/zusammen/stan_models/cpl_simple_chunked_gc.stan', line 150, column 4 to column 105)\n",
      "\tException: integrate: error estimate of integral 4.08855e-06 exceeds the given relative tolerance times norm of integral (in '/home/chrobin/Documents/zusammen/zusammen/stan_models/cpl_simple_chunked_gc.stan', line 150, column 4 to column 105)\n",
      "\tException: integrate: error estimate of integral 1.98839e-05 exceeds the given relative tolerance times norm of integral (in '/home/chrobin/Documents/zusammen/zusammen/stan_models/cpl_simple_chunked_gc.stan', line 150, column 4 to column 105)\n",
      "\tException: integrate: error estimate of integral 1.53859e-05 exceeds the given relative tolerance times norm of integral (in '/home/chrobin/Documents/zusammen/zusammen/stan_models/cpl_simple_chunked_gc.stan', line 150, column 4 to column 105)\n",
      "\tException: integrate: error estimate of integral 3.18366e-05 exceeds the given relative tolerance times norm of integral (in '/home/chrobin/Documents/zusammen/zusammen/stan_models/cpl_simple_chunked_gc.stan', line 150, column 4 to column 105)\n",
      "\tException: integrate: error estimate of integral 4.95143e-06 exceeds the given relative tolerance times norm of integral (in '/home/chrobin/Documents/zusammen/zusammen/stan_models/cpl_simple_chunked_gc.stan', line 150, column 4 to column 105)\n",
      "\tException: integrate: error estimate of integral 4.21956e-05 exceeds the given relative tolerance times norm of integral (in '/home/chrobin/Documents/zusammen/zusammen/stan_models/cpl_simple_chunked_gc.stan', line 150, column 4 to column 105)\n",
      "\tException: integrate: error estimate of integral 2.30213e-05 exceeds the given relative tolerance times norm of integral (in '/home/chrobin/Documents/zusammen/zusammen/stan_models/cpl_simple_chunked_gc.stan', line 150, column 4 to column 105)\n",
      "\tException: integrate: error estimate of integral 1.03329e-05 exceeds the given relative tolerance times norm of integral (in '/home/chrobin/Documents/zusammen/zusammen/stan_models/cpl_simple_chunked_gc.stan', line 150, column 4 to column 105)\n",
      "\tException: integrate: error estimate of integral 1.51032e-05 exceeds the given relative tolerance times norm of integral (in '/home/chrobin/Documents/zusammen/zusammen/stan_models/cpl_simple_chunked_gc.stan', line 150, column 4 to column 105)\n",
      "\tException: integrate: error estimate of integral 1.21118e-05 exceeds the given relative tolerance times norm of integral (in '/home/chrobin/Documents/zusammen/zusammen/stan_models/cpl_simple_chunked_gc.stan', line 150, column 4 to column 105)\n",
      "\tException: integrate: error estimate of integral 5.91063e-06 exceeds the given relative tolerance times norm of integral (in '/home/chrobin/Documents/zusammen/zusammen/stan_models/cpl_simple_chunked_gc.stan', line 150, column 4 to column 105)\n",
      "\tException: integrate: error estimate of integral 1.28771e-05 exceeds the given relative tolerance times norm of integral (in '/home/chrobin/Documents/zusammen/zusammen/stan_models/cpl_simple_chunked_gc.stan', line 150, column 4 to column 105)\n",
      "\tException: integrate: error estimate of integral 5.2328e-06 exceeds the given relative tolerance times norm of integral (in '/home/chrobin/Documents/zusammen/zusammen/stan_models/cpl_simple_chunked_gc.stan', line 150, column 4 to column 105)\n",
      "\tException: integrate: error estimate of integral 3.13135e-05 exceeds the given relative tolerance times norm of integral (in '/home/chrobin/Documents/zusammen/zusammen/stan_models/cpl_simple_chunked_gc.stan', line 150, column 4 to column 105)\n",
      "\tException: integrate: error estimate of integral 5.97524e-06 exceeds the given relative tolerance times norm of integral (in '/home/chrobin/Documents/zusammen/zusammen/stan_models/cpl_simple_chunked_gc.stan', line 150, column 4 to column 105)\n",
      "\tException: integrate: error estimate of integral 6.37983e-06 exceeds the given relative tolerance times norm of integral (in '/home/chrobin/Documents/zusammen/zusammen/stan_models/cpl_simple_chunked_gc.stan', line 150, column 4 to column 105)\n",
      "\tException: integrate: error estimate of integral 3.83254e-06 exceeds the given relative tolerance times norm of integral (in '/home/chrobin/Documents/zusammen/zusammen/stan_models/cpl_simple_chunked_gc.stan', line 150, column 4 to column 105)\n",
      "\tException: integrate: error estimate of integral 7.72639e-06 exceeds the given relative tolerance times norm of integral (in '/home/chrobin/Documents/zusammen/zusammen/stan_models/cpl_simple_chunked_gc.stan', line 150, column 4 to column 105)\n",
      "\tException: integrate: error estimate of integral 9.23298e-06 exceeds the given relative tolerance times norm of integral (in '/home/chrobin/Documents/zusammen/zusammen/stan_models/cpl_simple_chunked_gc.stan', line 150, column 4 to column 105)\n",
      "\tException: integrate: error estimate of integral 7.15913e-06 exceeds the given relative tolerance times norm of integral (in '/home/chrobin/Documents/zusammen/zusammen/stan_models/cpl_simple_chunked_gc.stan', line 150, column 4 to column 105)\n",
      "\tException: integrate: error estimate of integral 2.66944e-06 exceeds the given relative tolerance times norm of integral (in '/home/chrobin/Documents/zusammen/zusammen/stan_models/cpl_simple_chunked_gc.stan', line 150, column 4 to column 105)\n",
      "\tException: integrate: error estimate of integral 6.02148e-06 exceeds the given relative tolerance times norm of integral (in '/home/chrobin/Documents/zusammen/zusammen/stan_models/cpl_simple_chunked_gc.stan', line 150, column 4 to column 105)\n",
      "\tException: integrate: error estimate of integral 2.05684e-05 exceeds the given relative tolerance times norm of integral (in '/home/chrobin/Documents/zusammen/zusammen/stan_models/cpl_simple_chunked_gc.stan', line 150, column 4 to column 105)\n",
      "\tException: integrate: error estimate of integral 5.44746e-06 exceeds the given relative tolerance times norm of integral (in '/home/chrobin/Documents/zusammen/zusammen/stan_models/cpl_simple_chunked_gc.stan', line 150, column 4 to column 105)\n",
      "\tException: integrate: error estimate of integral 3.87095e-06 exceeds the given relative tolerance times norm of integral (in '/home/chrobin/Documents/zusammen/zusammen/stan_models/cpl_simple_chunked_gc.stan', line 150, column 4 to column 105)\n",
      "\tException: integrate: error estimate of integral 2.91421e-05 exceeds the given relative tolerance times norm of integral (in '/home/chrobin/Documents/zusammen/zusammen/stan_models/cpl_simple_chunked_gc.stan', line 150, column 4 to column 105)\n",
      "\tException: integrate: error estimate of integral 2.69526e-06 exceeds the given relative tolerance times norm of integral (in '/home/chrobin/Documents/zusammen/zusammen/stan_models/cpl_simple_chunked_gc.stan', line 150, column 4 to column 105)\n",
      "\tException: integrate: error estimate of integral 5.75586e-06 exceeds the given relative tolerance times norm of integral (in '/home/chrobin/Documents/zusammen/zusammen/stan_models/cpl_simple_chunked_gc.stan', line 150, column 4 to column 105)\n",
      "\tException: integrate: error estimate of integral 2.80961e-05 exceeds the given relative tolerance times norm of integral (in '/home/chrobin/Documents/zusammen/zusammen/stan_models/cpl_simple_chunked_gc.stan', line 150, column 4 to column 105)\n",
      "\tException: integrate: error estimate of integral 4.8931e-06 exceeds the given relative tolerance times norm of integral (in '/home/chrobin/Documents/zusammen/zusammen/stan_models/cpl_simple_chunked_gc.stan', line 150, column 4 to column 105)\n",
      "\tException: integrate: error estimate of integral 3.70133e-06 exceeds the given relative tolerance times norm of integral (in '/home/chrobin/Documents/zusammen/zusammen/stan_models/cpl_simple_chunked_gc.stan', line 150, column 4 to column 105)\n",
      "\tException: integrate: error estimate of integral 5.44016e-06 exceeds the given relative tolerance times norm of integral (in '/home/chrobin/Documents/zusammen/zusammen/stan_models/cpl_simple_chunked_gc.stan', line 150, column 4 to column 105)\n",
      "\tException: integrate: error estimate of integral 4.55752e-06 exceeds the given relative tolerance times norm of integral (in '/home/chrobin/Documents/zusammen/zusammen/stan_models/cpl_simple_chunked_gc.stan', line 150, column 4 to column 105)\n",
      "\tException: integrate: error estimate of integral 5.4381e-06 exceeds the given relative tolerance times norm of integral (in '/home/chrobin/Documents/zusammen/zusammen/stan_models/cpl_simple_chunked_gc.stan', line 150, column 4 to column 105)\n",
      "\tException: integrate: error estimate of integral 1.28173e-05 exceeds the given relative tolerance times norm of integral (in '/home/chrobin/Documents/zusammen/zusammen/stan_models/cpl_simple_chunked_gc.stan', line 150, column 4 to column 105)\n",
      "\tException: integrate: error estimate of integral 5.97048e-06 exceeds the given relative tolerance times norm of integral (in '/home/chrobin/Documents/zusammen/zusammen/stan_models/cpl_simple_chunked_gc.stan', line 150, column 4 to column 105)\n",
      "\tException: integrate: error estimate of integral 1.41043e-05 exceeds the given relative tolerance times norm of integral (in '/home/chrobin/Documents/zusammen/zusammen/stan_models/cpl_simple_chunked_gc.stan', line 150, column 4 to column 105)\n",
      "\tException: integrate: error estimate of integral 2.20626e-05 exceeds the given relative tolerance times norm of integral (in '/home/chrobin/Documents/zusammen/zusammen/stan_models/cpl_simple_chunked_gc.stan', line 150, column 4 to column 105)\n",
      "\tException: integrate: error estimate of integral 1.75034e-05 exceeds the given relative tolerance times norm of integral (in '/home/chrobin/Documents/zusammen/zusammen/stan_models/cpl_simple_chunked_gc.stan', line 150, column 4 to column 105)\n",
      "\tException: integrate: error estimate of integral 1.44897e-05 exceeds the given relative tolerance times norm of integral (in '/home/chrobin/Documents/zusammen/zusammen/stan_models/cpl_simple_chunked_gc.stan', line 150, column 4 to column 105)\n",
      "\tException: integrate: error estimate of integral 5.11987e-06 exceeds the given relative tolerance times norm of integral (in '/home/chrobin/Documents/zusammen/zusammen/stan_models/cpl_simple_chunked_gc.stan', line 150, column 4 to column 105)\n",
      "\tException: integrate: error estimate of integral 2.99457e-06 exceeds the given relative tolerance times norm of integral (in '/home/chrobin/Documents/zusammen/zusammen/stan_models/cpl_simple_chunked_gc.stan', line 150, column 4 to column 105)\n",
      "\tException: integrate: error estimate of integral 2.92393e-05 exceeds the given relative tolerance times norm of integral (in '/home/chrobin/Documents/zusammen/zusammen/stan_models/cpl_simple_chunked_gc.stan', line 150, column 4 to column 105)\n",
      "\tException: integrate: error estimate of integral 3.28547e-06 exceeds the given relative tolerance times norm of integral (in '/home/chrobin/Documents/zusammen/zusammen/stan_models/cpl_simple_chunked_gc.stan', line 150, column 4 to column 105)\n",
      "\tException: integrate: error estimate of integral 2.2216e-05 exceeds the given relative tolerance times norm of integral (in '/home/chrobin/Documents/zusammen/zusammen/stan_models/cpl_simple_chunked_gc.stan', line 150, column 4 to column 105)\n",
      "\tException: integrate: error estimate of integral 1.7587e-06 exceeds the given relative tolerance times norm of integral (in '/home/chrobin/Documents/zusammen/zusammen/stan_models/cpl_simple_chunked_gc.stan', line 150, column 4 to column 105)\n",
      "\tException: integrate: error estimate of integral 3.30624e-06 exceeds the given relative tolerance times norm of integral (in '/home/chrobin/Documents/zusammen/zusammen/stan_models/cpl_simple_chunked_gc.stan', line 150, column 4 to column 105)\n",
      "\tException: integrate: error estimate of integral 6.93602e-05 exceeds the given relative tolerance times norm of integral (in '/home/chrobin/Documents/zusammen/zusammen/stan_models/cpl_simple_chunked_gc.stan', line 150, column 4 to column 105)\n",
      "\tException: integrate: error estimate of integral 1.64808e-05 exceeds the given relative tolerance times norm of integral (in '/home/chrobin/Documents/zusammen/zusammen/stan_models/cpl_simple_chunked_gc.stan', line 150, column 4 to column 105)\n",
      "\tException: integrate: error estimate of integral 6.08797e-05 exceeds the given relative tolerance times norm of integral (in '/home/chrobin/Documents/zusammen/zusammen/stan_models/cpl_simple_chunked_gc.stan', line 150, column 4 to column 105)\n",
      "\tException: integrate: error estimate of integral 2.59314e-06 exceeds the given relative tolerance times norm of integral (in '/home/chrobin/Documents/zusammen/zusammen/stan_models/cpl_simple_chunked_gc.stan', line 150, column 4 to column 105)\n",
      "\tException: integrate: error estimate of integral 1.12125e-05 exceeds the given relative tolerance times norm of integral (in '/home/chrobin/Documents/zusammen/zusammen/stan_models/cpl_simple_chunked_gc.stan', line 150, column 4 to column 105)\n",
      "\tException: integrate: error estimate of integral 2.72034e-06 exceeds the given relative tolerance times norm of integral (in '/home/chrobin/Documents/zusammen/zusammen/stan_models/cpl_simple_chunked_gc.stan', line 150, column 4 to column 105)\n",
      "\tException: integrate: error estimate of integral 7.15789e-06 exceeds the given relative tolerance times norm of integral (in '/home/chrobin/Documents/zusammen/zusammen/stan_models/cpl_simple_chunked_gc.stan', line 150, column 4 to column 105)\n",
      "\tException: integrate: error estimate of integral 1.93487e-06 exceeds the given relative tolerance times norm of integral (in '/home/chrobin/Documents/zusammen/zusammen/stan_models/cpl_simple_chunked_gc.stan', line 150, column 4 to column 105)\n",
      "\tException: integrate: error estimate of integral 2.92552e-06 exceeds the given relative tolerance times norm of integral (in '/home/chrobin/Documents/zusammen/zusammen/stan_models/cpl_simple_chunked_gc.stan', line 150, column 4 to column 105)\n",
      "\tException: integrate: error estimate of integral 3.59497e-06 exceeds the given relative tolerance times norm of integral (in '/home/chrobin/Documents/zusammen/zusammen/stan_models/cpl_simple_chunked_gc.stan', line 150, column 4 to column 105)\n",
      "\tException: integrate: error estimate of integral 5.57371e-05 exceeds the given relative tolerance times norm of integral (in '/home/chrobin/Documents/zusammen/zusammen/stan_models/cpl_simple_chunked_gc.stan', line 150, column 4 to column 105)\n",
      "\tException: integrate: error estimate of integral 3.12615e-06 exceeds the given relative tolerance times norm of integral (in '/home/chrobin/Documents/zusammen/zusammen/stan_models/cpl_simple_chunked_gc.stan', line 150, column 4 to column 105)\n",
      "\tException: integrate: error estimate of integral 1.6548e-05 exceeds the given relative tolerance times norm of integral (in '/home/chrobin/Documents/zusammen/zusammen/stan_models/cpl_simple_chunked_gc.stan', line 150, column 4 to column 105)\n",
      "\tException: integrate: error estimate of integral 1.93155e-06 exceeds the given relative tolerance times norm of integral (in '/home/chrobin/Documents/zusammen/zusammen/stan_models/cpl_simple_chunked_gc.stan', line 150, column 4 to column 105)\n",
      "\tException: integrate: error estimate of integral 1.6997e-05 exceeds the given relative tolerance times norm of integral (in '/home/chrobin/Documents/zusammen/zusammen/stan_models/cpl_simple_chunked_gc.stan', line 150, column 4 to column 105)\n",
      "\tException: integrate: error estimate of integral 8.68054e-06 exceeds the given relative tolerance times norm of integral (in '/home/chrobin/Documents/zusammen/zusammen/stan_models/cpl_simple_chunked_gc.stan', line 150, column 4 to column 105)\n",
      "\tException: integrate: error estimate of integral 1.26528e-05 exceeds the given relative tolerance times norm of integral (in '/home/chrobin/Documents/zusammen/zusammen/stan_models/cpl_simple_chunked_gc.stan', line 150, column 4 to column 105)\n",
      "\tException: integrate: error estimate of integral 2.45587e-05 exceeds the given relative tolerance times norm of integral (in '/home/chrobin/Documents/zusammen/zusammen/stan_models/cpl_simple_chunked_gc.stan', line 150, column 4 to column 105)\n",
      "\tException: integrate: error estimate of integral 6.10054e-06 exceeds the given relative tolerance times norm of integral (in '/home/chrobin/Documents/zusammen/zusammen/stan_models/cpl_simple_chunked_gc.stan', line 150, column 4 to column 105)\n",
      "\tException: integrate: error estimate of integral 3.39252e-06 exceeds the given relative tolerance times norm of integral (in '/home/chrobin/Documents/zusammen/zusammen/stan_models/cpl_simple_chunked_gc.stan', line 150, column 4 to column 105)\n",
      "\tException: integrate: error estimate of integral 6.17035e-06 exceeds the given relative tolerance times norm of integral (in '/home/chrobin/Documents/zusammen/zusammen/stan_models/cpl_simple_chunked_gc.stan', line 150, column 4 to column 105)\n",
      "\tException: integrate: error estimate of integral 5.18341e-06 exceeds the given relative tolerance times norm of integral (in '/home/chrobin/Documents/zusammen/zusammen/stan_models/cpl_simple_chunked_gc.stan', line 150, column 4 to column 105)\n",
      "\tException: integrate: error estimate of integral 4.99579e-05 exceeds the given relative tolerance times norm of integral (in '/home/chrobin/Documents/zusammen/zusammen/stan_models/cpl_simple_chunked_gc.stan', line 150, column 4 to column 105)\n",
      "\tException: integrate: error estimate of integral 6.92989e-05 exceeds the given relative tolerance times norm of integral (in '/home/chrobin/Documents/zusammen/zusammen/stan_models/cpl_simple_chunked_gc.stan', line 150, column 4 to column 105)\n",
      "\tException: integrate: error estimate of integral 7.28875e-06 exceeds the given relative tolerance times norm of integral (in '/home/chrobin/Documents/zusammen/zusammen/stan_models/cpl_simple_chunked_gc.stan', line 150, column 4 to column 105)\n",
      "\tException: integrate: error estimate of integral 9.35954e-06 exceeds the given relative tolerance times norm of integral (in '/home/chrobin/Documents/zusammen/zusammen/stan_models/cpl_simple_chunked_gc.stan', line 150, column 4 to column 105)\n",
      "\tException: integrate: error estimate of integral 1.14921e-05 exceeds the given relative tolerance times norm of integral (in '/home/chrobin/Documents/zusammen/zusammen/stan_models/cpl_simple_chunked_gc.stan', line 150, column 4 to column 105)\n",
      "\tException: integrate: error estimate of integral 6.34735e-05 exceeds the given relative tolerance times norm of integral (in '/home/chrobin/Documents/zusammen/zusammen/stan_models/cpl_simple_chunked_gc.stan', line 150, column 4 to column 105)\n",
      "\tException: integrate: error estimate of integral 1.57356e-05 exceeds the given relative tolerance times norm of integral (in '/home/chrobin/Documents/zusammen/zusammen/stan_models/cpl_simple_chunked_gc.stan', line 150, column 4 to column 105)\n",
      "\tException: integrate: error estimate of integral 1.21457e-05 exceeds the given relative tolerance times norm of integral (in '/home/chrobin/Documents/zusammen/zusammen/stan_models/cpl_simple_chunked_gc.stan', line 150, column 4 to column 105)\n",
      "\tException: integrate: error estimate of integral 2.36635e-05 exceeds the given relative tolerance times norm of integral (in '/home/chrobin/Documents/zusammen/zusammen/stan_models/cpl_simple_chunked_gc.stan', line 150, column 4 to column 105)\n",
      "\tException: integrate: error estimate of integral 6.48528e-05 exceeds the given relative tolerance times norm of integral (in '/home/chrobin/Documents/zusammen/zusammen/stan_models/cpl_simple_chunked_gc.stan', line 150, column 4 to column 105)\n",
      "\tException: integrate: error estimate of integral 1.9847e-06 exceeds the given relative tolerance times norm of integral (in '/home/chrobin/Documents/zusammen/zusammen/stan_models/cpl_simple_chunked_gc.stan', line 150, column 4 to column 105)\n",
      "\tException: integrate: error estimate of integral 2.67991e-06 exceeds the given relative tolerance times norm of integral (in '/home/chrobin/Documents/zusammen/zusammen/stan_models/cpl_simple_chunked_gc.stan', line 150, column 4 to column 105)\n",
      "\tException: integrate: error estimate of integral 2.78548e-06 exceeds the given relative tolerance times norm of integral (in '/home/chrobin/Documents/zusammen/zusammen/stan_models/cpl_simple_chunked_gc.stan', line 150, column 4 to column 105)\n",
      "\tException: integrate: error estimate of integral 2.14322e-05 exceeds the given relative tolerance times norm of integral (in '/home/chrobin/Documents/zusammen/zusammen/stan_models/cpl_simple_chunked_gc.stan', line 150, column 4 to column 105)\n",
      "\tException: integrate: error estimate of integral 9.95264e-06 exceeds the given relative tolerance times norm of integral (in '/home/chrobin/Documents/zusammen/zusammen/stan_models/cpl_simple_chunked_gc.stan', line 150, column 4 to column 105)\n",
      "\tException: integrate: error estimate of integral 5.30854e-06 exceeds the given relative tolerance times norm of integral (in '/home/chrobin/Documents/zusammen/zusammen/stan_models/cpl_simple_chunked_gc.stan', line 150, column 4 to column 105)\n",
      "\tException: integrate: error estimate of integral 6.96645e-05 exceeds the given relative tolerance times norm of integral (in '/home/chrobin/Documents/zusammen/zusammen/stan_models/cpl_simple_chunked_gc.stan', line 150, column 4 to column 105)\n",
      "\tException: integrate: error estimate of integral 6.70021e-06 exceeds the given relative tolerance times norm of integral (in '/home/chrobin/Documents/zusammen/zusammen/stan_models/cpl_simple_chunked_gc.stan', line 150, column 4 to column 105)\n",
      "\tException: integrate: error estimate of integral 3.70132e-06 exceeds the given relative tolerance times norm of integral (in '/home/chrobin/Documents/zusammen/zusammen/stan_models/cpl_simple_chunked_gc.stan', line 150, column 4 to column 105)\n",
      "\tException: integrate: error estimate of integral 2.64583e-06 exceeds the given relative tolerance times norm of integral (in '/home/chrobin/Documents/zusammen/zusammen/stan_models/cpl_simple_chunked_gc.stan', line 150, column 4 to column 105)\n",
      "\tException: integrate: error estimate of integral 1.88565e-05 exceeds the given relative tolerance times norm of integral (in '/home/chrobin/Documents/zusammen/zusammen/stan_models/cpl_simple_chunked_gc.stan', line 150, column 4 to column 105)\n",
      "\tException: integrate: error estimate of integral 3.57129e-06 exceeds the given relative tolerance times norm of integral (in '/home/chrobin/Documents/zusammen/zusammen/stan_models/cpl_simple_chunked_gc.stan', line 150, column 4 to column 105)\n",
      "\tException: integrate: error estimate of integral 3.17296e-06 exceeds the given relative tolerance times norm of integral (in '/home/chrobin/Documents/zusammen/zusammen/stan_models/cpl_simple_chunked_gc.stan', line 150, column 4 to column 105)\n",
      "\tException: integrate: error estimate of integral 2.11406e-06 exceeds the given relative tolerance times norm of integral (in '/home/chrobin/Documents/zusammen/zusammen/stan_models/cpl_simple_chunked_gc.stan', line 150, column 4 to column 105)\n",
      "\tException: integrate: error estimate of integral 8.86234e-06 exceeds the given relative tolerance times norm of integral (in '/home/chrobin/Documents/zusammen/zusammen/stan_models/cpl_simple_chunked_gc.stan', line 150, column 4 to column 105)\n",
      "\tException: integrate: error estimate of integral 3.2782e-05 exceeds the given relative tolerance times norm of integral (in '/home/chrobin/Documents/zusammen/zusammen/stan_models/cpl_simple_chunked_gc.stan', line 150, column 4 to column 105)\n",
      "\tException: integrate: error estimate of integral 7.50756e-06 exceeds the given relative tolerance times norm of integral (in '/home/chrobin/Documents/zusammen/zusammen/stan_models/cpl_simple_chunked_gc.stan', line 150, column 4 to column 105)\n",
      "\tException: integrate: error estimate of integral 2.77847e-05 exceeds the given relative tolerance times norm of integral (in '/home/chrobin/Documents/zusammen/zusammen/stan_models/cpl_simple_chunked_gc.stan', line 150, column 4 to column 105)\n",
      "\tException: integrate: error estimate of integral 2.02173e-06 exceeds the given relative tolerance times norm of integral (in '/home/chrobin/Documents/zusammen/zusammen/stan_models/cpl_simple_chunked_gc.stan', line 150, column 4 to column 105)\n",
      "\tException: integrate: error estimate of integral 5.21935e-05 exceeds the given relative tolerance times norm of integral (in '/home/chrobin/Documents/zusammen/zusammen/stan_models/cpl_simple_chunked_gc.stan', line 150, column 4 to column 105)\n",
      "\tException: integrate: error estimate of integral 6.1911e-06 exceeds the given relative tolerance times norm of integral (in '/home/chrobin/Documents/zusammen/zusammen/stan_models/cpl_simple_chunked_gc.stan', line 150, column 4 to column 105)\n",
      "\tException: integrate: error estimate of integral 8.62372e-06 exceeds the given relative tolerance times norm of integral (in '/home/chrobin/Documents/zusammen/zusammen/stan_models/cpl_simple_chunked_gc.stan', line 150, column 4 to column 105)\n",
      "\tException: integrate: error estimate of integral 6.84267e-06 exceeds the given relative tolerance times norm of integral (in '/home/chrobin/Documents/zusammen/zusammen/stan_models/cpl_simple_chunked_gc.stan', line 150, column 4 to column 105)\n",
      "\tException: integrate: error estimate of integral 7.78374e-06 exceeds the given relative tolerance times norm of integral (in '/home/chrobin/Documents/zusammen/zusammen/stan_models/cpl_simple_chunked_gc.stan', line 150, column 4 to column 105)\n",
      "\tException: integrate: error estimate of integral 4.02542e-06 exceeds the given relative tolerance times norm of integral (in '/home/chrobin/Documents/zusammen/zusammen/stan_models/cpl_simple_chunked_gc.stan', line 150, column 4 to column 105)\n",
      "\tException: integrate: error estimate of integral 1.13371e-05 exceeds the given relative tolerance times norm of integral (in '/home/chrobin/Documents/zusammen/zusammen/stan_models/cpl_simple_chunked_gc.stan', line 150, column 4 to column 105)\n",
      "\tException: integrate: error estimate of integral 9.001e-06 exceeds the given relative tolerance times norm of integral (in '/home/chrobin/Documents/zusammen/zusammen/stan_models/cpl_simple_chunked_gc.stan', line 150, column 4 to column 105)\n",
      "\tException: integrate: error estimate of integral 1.14991e-05 exceeds the given relative tolerance times norm of integral (in '/home/chrobin/Documents/zusammen/zusammen/stan_models/cpl_simple_chunked_gc.stan', line 150, column 4 to column 105)\n",
      "\tException: integrate: error estimate of integral 2.07023e-05 exceeds the given relative tolerance times norm of integral (in '/home/chrobin/Documents/zusammen/zusammen/stan_models/cpl_simple_chunked_gc.stan', line 150, column 4 to column 105)\n",
      "\tException: integrate: error estimate of integral 7.60797e-06 exceeds the given relative tolerance times norm of integral (in '/home/chrobin/Documents/zusammen/zusammen/stan_models/cpl_simple_chunked_gc.stan', line 150, column 4 to column 105)\n",
      "\tException: integrate: error estimate of integral 1.12006e-05 exceeds the given relative tolerance times norm of integral (in '/home/chrobin/Documents/zusammen/zusammen/stan_models/cpl_simple_chunked_gc.stan', line 150, column 4 to column 105)\n",
      "\tException: integrate: error estimate of integral 4.78247e-05 exceeds the given relative tolerance times norm of integral (in '/home/chrobin/Documents/zusammen/zusammen/stan_models/cpl_simple_chunked_gc.stan', line 150, column 4 to column 105)\n",
      "\tException: integrate: error estimate of integral 2.30189e-05 exceeds the given relative tolerance times norm of integral (in '/home/chrobin/Documents/zusammen/zusammen/stan_models/cpl_simple_chunked_gc.stan', line 150, column 4 to column 105)\n",
      "\tException: integrate: error estimate of integral 3.89821e-06 exceeds the given relative tolerance times norm of integral (in '/home/chrobin/Documents/zusammen/zusammen/stan_models/cpl_simple_chunked_gc.stan', line 150, column 4 to column 105)\n",
      "\tException: integrate: error estimate of integral 3.08701e-06 exceeds the given relative tolerance times norm of integral (in '/home/chrobin/Documents/zusammen/zusammen/stan_models/cpl_simple_chunked_gc.stan', line 150, column 4 to column 105)\n",
      "\tException: integrate: error estimate of integral 3.8324e-06 exceeds the given relative tolerance times norm of integral (in '/home/chrobin/Documents/zusammen/zusammen/stan_models/cpl_simple_chunked_gc.stan', line 150, column 4 to column 105)\n",
      "\tException: integrate: error estimate of integral 3.08333e-05 exceeds the given relative tolerance times norm of integral (in '/home/chrobin/Documents/zusammen/zusammen/stan_models/cpl_simple_chunked_gc.stan', line 150, column 4 to column 105)\n",
      "\tException: integrate: error estimate of integral 3.93751e-06 exceeds the given relative tolerance times norm of integral (in '/home/chrobin/Documents/zusammen/zusammen/stan_models/cpl_simple_chunked_gc.stan', line 150, column 4 to column 105)\n",
      "\tException: integrate: error estimate of integral 5.46298e-06 exceeds the given relative tolerance times norm of integral (in '/home/chrobin/Documents/zusammen/zusammen/stan_models/cpl_simple_chunked_gc.stan', line 150, column 4 to column 105)\n",
      "\tException: integrate: error estimate of integral 1.96111e-05 exceeds the given relative tolerance times norm of integral (in '/home/chrobin/Documents/zusammen/zusammen/stan_models/cpl_simple_chunked_gc.stan', line 150, column 4 to column 105)\n",
      "\tException: integrate: error estimate of integral 1.90855e-06 exceeds the given relative tolerance times norm of integral (in '/home/chrobin/Documents/zusammen/zusammen/stan_models/cpl_simple_chunked_gc.stan', line 150, column 4 to column 105)\n",
      "\tException: integrate: error estimate of integral 5.87567e-05 exceeds the given relative tolerance times norm of integral (in '/home/chrobin/Documents/zusammen/zusammen/stan_models/cpl_simple_chunked_gc.stan', line 150, column 4 to column 105)\n",
      "\tException: integrate: error estimate of integral 6.83717e-05 exceeds the given relative tolerance times norm of integral (in '/home/chrobin/Documents/zusammen/zusammen/stan_models/cpl_simple_chunked_gc.stan', line 150, column 4 to column 105)\n",
      "\tException: integrate: error estimate of integral 4.663e-06 exceeds the given relative tolerance times norm of integral (in '/home/chrobin/Documents/zusammen/zusammen/stan_models/cpl_simple_chunked_gc.stan', line 150, column 4 to column 105)\n",
      "\tException: integrate: error estimate of integral 2.30921e-05 exceeds the given relative tolerance times norm of integral (in '/home/chrobin/Documents/zusammen/zusammen/stan_models/cpl_simple_chunked_gc.stan', line 150, column 4 to column 105)\n",
      "\tException: integrate: error estimate of integral 1.60645e-06 exceeds the given relative tolerance times norm of integral (in '/home/chrobin/Documents/zusammen/zusammen/stan_models/cpl_simple_chunked_gc.stan', line 150, column 4 to column 105)\n",
      "\tException: integrate: error estimate of integral 2.31128e-05 exceeds the given relative tolerance times norm of integral (in '/home/chrobin/Documents/zusammen/zusammen/stan_models/cpl_simple_chunked_gc.stan', line 150, column 4 to column 105)\n",
      "\tException: integrate: error estimate of integral 4.579e-06 exceeds the given relative tolerance times norm of integral (in '/home/chrobin/Documents/zusammen/zusammen/stan_models/cpl_simple_chunked_gc.stan', line 150, column 4 to column 105)\n",
      "\tException: integrate: error estimate of integral 7.2996e-05 exceeds the given relative tolerance times norm of integral (in '/home/chrobin/Documents/zusammen/zusammen/stan_models/cpl_simple_chunked_gc.stan', line 150, column 4 to column 105)\n",
      "\tException: integrate: error estimate of integral 7.13883e-06 exceeds the given relative tolerance times norm of integral (in '/home/chrobin/Documents/zusammen/zusammen/stan_models/cpl_simple_chunked_gc.stan', line 150, column 4 to column 105)\n",
      "\tException: integrate: error estimate of integral 2.92105e-05 exceeds the given relative tolerance times norm of integral (in '/home/chrobin/Documents/zusammen/zusammen/stan_models/cpl_simple_chunked_gc.stan', line 150, column 4 to column 105)\n",
      "\tException: integrate: error estimate of integral 5.75608e-06 exceeds the given relative tolerance times norm of integral (in '/home/chrobin/Documents/zusammen/zusammen/stan_models/cpl_simple_chunked_gc.stan', line 150, column 4 to column 105)\n",
      "\tException: integrate: error estimate of integral 1.4416e-05 exceeds the given relative tolerance times norm of integral (in '/home/chrobin/Documents/zusammen/zusammen/stan_models/cpl_simple_chunked_gc.stan', line 150, column 4 to column 105)\n",
      "\tException: integrate: error estimate of integral 6.04343e-06 exceeds the given relative tolerance times norm of integral (in '/home/chrobin/Documents/zusammen/zusammen/stan_models/cpl_simple_chunked_gc.stan', line 150, column 4 to column 105)\n",
      "\tException: integrate: error estimate of integral 2.72879e-05 exceeds the given relative tolerance times norm of integral (in '/home/chrobin/Documents/zusammen/zusammen/stan_models/cpl_simple_chunked_gc.stan', line 150, column 4 to column 105)\n",
      "\tException: integrate: error estimate of integral 6.04647e-05 exceeds the given relative tolerance times norm of integral (in '/home/chrobin/Documents/zusammen/zusammen/stan_models/cpl_simple_chunked_gc.stan', line 150, column 4 to column 105)\n",
      "\tException: integrate: error estimate of integral 5.4022e-05 exceeds the given relative tolerance times norm of integral (in '/home/chrobin/Documents/zusammen/zusammen/stan_models/cpl_simple_chunked_gc.stan', line 150, column 4 to column 105)\n",
      "\tException: integrate: error estimate of integral 6.75613e-06 exceeds the given relative tolerance times norm of integral (in '/home/chrobin/Documents/zusammen/zusammen/stan_models/cpl_simple_chunked_gc.stan', line 150, column 4 to column 105)\n",
      "\tException: integrate: error estimate of integral 3.03583e-06 exceeds the given relative tolerance times norm of integral (in '/home/chrobin/Documents/zusammen/zusammen/stan_models/cpl_simple_chunked_gc.stan', line 150, column 4 to column 105)\n",
      "\tException: integrate: error estimate of integral 3.38519e-06 exceeds the given relative tolerance times norm of integral (in '/home/chrobin/Documents/zusammen/zusammen/stan_models/cpl_simple_chunked_gc.stan', line 150, column 4 to column 105)\n",
      "\tException: integrate: error estimate of integral 2.21769e-06 exceeds the given relative tolerance times norm of integral (in '/home/chrobin/Documents/zusammen/zusammen/stan_models/cpl_simple_chunked_gc.stan', line 150, column 4 to column 105)\n",
      "\tException: integrate: error estimate of integral 4.55428e-06 exceeds the given relative tolerance times norm of integral (in '/home/chrobin/Documents/zusammen/zusammen/stan_models/cpl_simple_chunked_gc.stan', line 150, column 4 to column 105)\n",
      "\tException: integrate: error estimate of integral 1.05816e-05 exceeds the given relative tolerance times norm of integral (in '/home/chrobin/Documents/zusammen/zusammen/stan_models/cpl_simple_chunked_gc.stan', line 150, column 4 to column 105)\n",
      "\tException: integrate: error estimate of integral 1.98072e-06 exceeds the given relative tolerance times norm of integral (in '/home/chrobin/Documents/zusammen/zusammen/stan_models/cpl_simple_chunked_gc.stan', line 150, column 4 to column 105)\n",
      "\tException: integrate: error estimate of integral 2.6489e-05 exceeds the given relative tolerance times norm of integral (in '/home/chrobin/Documents/zusammen/zusammen/stan_models/cpl_simple_chunked_gc.stan', line 150, column 4 to column 105)\n",
      "\tException: integrate: error estimate of integral 8.79154e-06 exceeds the given relative tolerance times norm of integral (in '/home/chrobin/Documents/zusammen/zusammen/stan_models/cpl_simple_chunked_gc.stan', line 150, column 4 to column 105)\n",
      "\tException: integrate: error estimate of integral 6.94187e-05 exceeds the given relative tolerance times norm of integral (in '/home/chrobin/Documents/zusammen/zusammen/stan_models/cpl_simple_chunked_gc.stan', line 150, column 4 to column 105)\n",
      "\tException: integrate: error estimate of integral 4.03227e-06 exceeds the given relative tolerance times norm of integral (in '/home/chrobin/Documents/zusammen/zusammen/stan_models/cpl_simple_chunked_gc.stan', line 150, column 4 to column 105)\n",
      "\tException: integrate: error estimate of integral 2.93396e-06 exceeds the given relative tolerance times norm of integral (in '/home/chrobin/Documents/zusammen/zusammen/stan_models/cpl_simple_chunked_gc.stan', line 150, column 4 to column 105)\n",
      "\tException: integrate: error estimate of integral 1.20159e-05 exceeds the given relative tolerance times norm of integral (in '/home/chrobin/Documents/zusammen/zusammen/stan_models/cpl_simple_chunked_gc.stan', line 150, column 4 to column 105)\n",
      "\tException: integrate: error estimate of integral 3.17686e-06 exceeds the given relative tolerance times norm of integral (in '/home/chrobin/Documents/zusammen/zusammen/stan_models/cpl_simple_chunked_gc.stan', line 150, column 4 to column 105)\n",
      "\tException: integrate: error estimate of integral 1.01683e-05 exceeds the given relative tolerance times norm of integral (in '/home/chrobin/Documents/zusammen/zusammen/stan_models/cpl_simple_chunked_gc.stan', line 150, column 4 to column 105)\n",
      "\tException: integrate: error estimate of integral 1.12392e-05 exceeds the given relative tolerance times norm of integral (in '/home/chrobin/Documents/zusammen/zusammen/stan_models/cpl_simple_chunked_gc.stan', line 150, column 4 to column 105)\n",
      "\tException: integrate: error estimate of integral 4.22427e-05 exceeds the given relative tolerance times norm of integral (in '/home/chrobin/Documents/zusammen/zusammen/stan_models/cpl_simple_chunked_gc.stan', line 150, column 4 to column 105)\n",
      "\tException: integrate: error estimate of integral 1.90385e-05 exceeds the given relative tolerance times norm of integral (in '/home/chrobin/Documents/zusammen/zusammen/stan_models/cpl_simple_chunked_gc.stan', line 150, column 4 to column 105)\n",
      "\tException: integrate: error estimate of integral 6.06339e-06 exceeds the given relative tolerance times norm of integral (in '/home/chrobin/Documents/zusammen/zusammen/stan_models/cpl_simple_chunked_gc.stan', line 150, column 4 to column 105)\n",
      "\tException: integrate: error estimate of integral 3.85334e-06 exceeds the given relative tolerance times norm of integral (in '/home/chrobin/Documents/zusammen/zusammen/stan_models/cpl_simple_chunked_gc.stan', line 150, column 4 to column 105)\n",
      "\tException: integrate: error estimate of integral 1.09836e-05 exceeds the given relative tolerance times norm of integral (in '/home/chrobin/Documents/zusammen/zusammen/stan_models/cpl_simple_chunked_gc.stan', line 150, column 4 to column 105)\n",
      "\tException: integrate: error estimate of integral 2.21258e-06 exceeds the given relative tolerance times norm of integral (in '/home/chrobin/Documents/zusammen/zusammen/stan_models/cpl_simple_chunked_gc.stan', line 150, column 4 to column 105)\n",
      "\tException: integrate: error estimate of integral 1.42635e-05 exceeds the given relative tolerance times norm of integral (in '/home/chrobin/Documents/zusammen/zusammen/stan_models/cpl_simple_chunked_gc.stan', line 150, column 4 to column 105)\n",
      "\tException: integrate: error estimate of integral 3.06703e-06 exceeds the given relative tolerance times norm of integral (in '/home/chrobin/Documents/zusammen/zusammen/stan_models/cpl_simple_chunked_gc.stan', line 150, column 4 to column 105)\n",
      "\tException: integrate: error estimate of integral 3.17228e-06 exceeds the given relative tolerance times norm of integral (in '/home/chrobin/Documents/zusammen/zusammen/stan_models/cpl_simple_chunked_gc.stan', line 150, column 4 to column 105)\n",
      "\tException: integrate: error estimate of integral 1.87548e-05 exceeds the given relative tolerance times norm of integral (in '/home/chrobin/Documents/zusammen/zusammen/stan_models/cpl_simple_chunked_gc.stan', line 150, column 4 to column 105)\n",
      "\tException: integrate: error estimate of integral 2.89513e-06 exceeds the given relative tolerance times norm of integral (in '/home/chrobin/Documents/zusammen/zusammen/stan_models/cpl_simple_chunked_gc.stan', line 150, column 4 to column 105)\n",
      "\tException: integrate: error estimate of integral 1.10896e-05 exceeds the given relative tolerance times norm of integral (in '/home/chrobin/Documents/zusammen/zusammen/stan_models/cpl_simple_chunked_gc.stan', line 150, column 4 to column 105)\n",
      "\tException: integrate: error estimate of integral 3.66833e-06 exceeds the given relative tolerance times norm of integral (in '/home/chrobin/Documents/zusammen/zusammen/stan_models/cpl_simple_chunked_gc.stan', line 150, column 4 to column 105)\n",
      "\tException: integrate: error estimate of integral 4.69791e-06 exceeds the given relative tolerance times norm of integral (in '/home/chrobin/Documents/zusammen/zusammen/stan_models/cpl_simple_chunked_gc.stan', line 150, column 4 to column 105)\n",
      "\tException: integrate: error estimate of integral 6.11874e-06 exceeds the given relative tolerance times norm of integral (in '/home/chrobin/Documents/zusammen/zusammen/stan_models/cpl_simple_chunked_gc.stan', line 150, column 4 to column 105)\n",
      "\tException: integrate: error estimate of integral 1.33371e-05 exceeds the given relative tolerance times norm of integral (in '/home/chrobin/Documents/zusammen/zusammen/stan_models/cpl_simple_chunked_gc.stan', line 150, column 4 to column 105)\n",
      "\tException: integrate: error estimate of integral 2.63874e-06 exceeds the given relative tolerance times norm of integral (in '/home/chrobin/Documents/zusammen/zusammen/stan_models/cpl_simple_chunked_gc.stan', line 150, column 4 to column 105)\n",
      "\tException: integrate: error estimate of integral 3.29945e-05 exceeds the given relative tolerance times norm of integral (in '/home/chrobin/Documents/zusammen/zusammen/stan_models/cpl_simple_chunked_gc.stan', line 150, column 4 to column 105)\n",
      "\tException: integrate: error estimate of integral 2.58414e-06 exceeds the given relative tolerance times norm of integral (in '/home/chrobin/Documents/zusammen/zusammen/stan_models/cpl_simple_chunked_gc.stan', line 150, column 4 to column 105)\n",
      "\tException: integrate: error estimate of integral 2.20019e-06 exceeds the given relative tolerance times norm of integral (in '/home/chrobin/Documents/zusammen/zusammen/stan_models/cpl_simple_chunked_gc.stan', line 150, column 4 to column 105)\n",
      "Consider re-running with show_console=True if the above output is unclear!\n",
      "11:42:07 - cmdstanpy - WARNING - Some chains may have failed to converge.\n",
      "\tChain 1 had 123 divergent transitions (24.6%)\n",
      "\tChain 1 had 255 iterations at max treedepth (51.0%)\n",
      "\tChain 2 had 126 divergent transitions (25.2%)\n",
      "\tChain 2 had 283 iterations at max treedepth (56.6%)\n",
      "\tUse function \"diagnose()\" to see further information.\n"
     ]
    }
   ],
   "source": [
    "data = ds.to_stan_dict()\n",
    "\n",
    "n_threads = 3\n",
    "n_chains = 2\n",
    "\n",
    "fit = m.model.sample(\n",
    "    data=data,\n",
    "    parallel_chains=n_chains,\n",
    "    chains=n_chains,\n",
    "    # inits= {'alpha':-1.},\n",
    "    threads_per_chain=n_threads,\n",
    "    seed=1234,\n",
    "    iter_warmup=1000,\n",
    "    iter_sampling=500,\n",
    "    max_treedepth=12,\n",
    "    show_progress=True,\n",
    ")"
   ]
  },
  {
   "cell_type": "code",
   "execution_count": null,
   "metadata": {
    "collapsed": true,
    "jupyter": {
     "outputs_hidden": true
    },
    "tags": []
   },
   "outputs": [],
   "source": [
    "m.model.sample?"
   ]
  },
  {
   "cell_type": "markdown",
   "metadata": {},
   "source": [
    "Import Stan results into arviz"
   ]
  },
  {
   "cell_type": "code",
   "execution_count": 10,
   "metadata": {},
   "outputs": [],
   "source": [
    "res = av.from_cmdstanpy(fit)"
   ]
  },
  {
   "cell_type": "code",
   "execution_count": 11,
   "metadata": {},
   "outputs": [
    {
     "data": {
      "text/plain": [
       "'test_inference_data_energy_flux_4.nc'"
      ]
     },
     "execution_count": 11,
     "metadata": {},
     "output_type": "execute_result"
    }
   ],
   "source": [
    "res.to_netcdf(\"test_inference_data_energy_flux_4.nc\")"
   ]
  },
  {
   "cell_type": "code",
   "execution_count": null,
   "metadata": {},
   "outputs": [],
   "source": [
    "res.sample_stats.treedepth.max()"
   ]
  },
  {
   "cell_type": "code",
   "execution_count": null,
   "metadata": {},
   "outputs": [],
   "source": [
    "av.plot_trace(res)"
   ]
  },
  {
   "cell_type": "code",
   "execution_count": null,
   "metadata": {},
   "outputs": [],
   "source": [
    "bc = Band_Calderone(opt=0, a =10, b=1e4)\n",
    "bc.beta.fix = True"
   ]
  },
  {
   "cell_type": "markdown",
   "metadata": {},
   "source": [
    "Load parameters  \n",
    "    $\\alpha$: parameter of CPL  \n",
    "    $E_p = \\log E_c$  \n",
    "    $K$: normalization"
   ]
  },
  {
   "cell_type": "code",
   "execution_count": null,
   "metadata": {},
   "outputs": [],
   "source": [
    "id = 0"
   ]
  },
  {
   "cell_type": "code",
   "execution_count": null,
   "metadata": {},
   "outputs": [],
   "source": [
    "alpha = res.posterior.alpha.stack(sample=(\"chain\", \"draw\")).values[id]\n",
    "\n",
    "log_ec = res.posterior.log_ec.stack(sample=(\"chain\", \"draw\")).values[id]\n",
    "\n",
    "K  = res.posterior.K.stack(sample=(\"chain\", \"draw\")).values[id]\n",
    "\n",
    "epeak = res.posterior.epeak.stack(sample=(\"chain\", \"draw\")).values[id]\n",
    "\n",
    "energy_flux = res.posterior.energy_flux.stack(sample=(\"chain\", \"draw\")).values[id]\n",
    "\n",
    "gamma = res.posterior.gamma.stack(sample=(\"chain\", \"draw\")).values[id]\n",
    "\n",
    "log_Nrest = res.posterior.log_Nrest.stack(sample=(\"chain\", \"draw\")).values[id]\n",
    "\n",
    "\n",
    "div = res.sample_stats.diverging.stack(sample=(\"chain\", \"draw\")).values\n",
    "\n",
    "samples = np.vstack((K, alpha, 10.**log_ec))\n",
    "\n",
    "\n",
    "dl = ds.get_data_list_of_interval(id)"
   ]
  },
  {
   "cell_type": "code",
   "execution_count": null,
   "metadata": {},
   "outputs": [],
   "source": [
    "alpha"
   ]
  },
  {
   "cell_type": "code",
   "execution_count": null,
   "metadata": {},
   "outputs": [],
   "source": [
    "div.sum()"
   ]
  },
  {
   "cell_type": "code",
   "execution_count": null,
   "metadata": {},
   "outputs": [],
   "source": [
    "bc = Cutoff_powerlaw(piv=100)\n",
    "\n",
    "bc.index.bounds = (None, None)\n",
    "bc.K.bounds = (None, None)\n",
    "bc.xc.bounds = (None, None)\n",
    "\n",
    "model = Model(PointSource(\"ps\",0,0, spectral_shape=bc))"
   ]
  },
  {
   "cell_type": "code",
   "execution_count": null,
   "metadata": {},
   "outputs": [],
   "source": [
    "fig, ax = plt.subplots()\n",
    "\n",
    "\n",
    "ax.scatter(ep, alpha, alpha=0.1)\n"
   ]
  },
  {
   "cell_type": "code",
   "execution_count": null,
   "metadata": {},
   "outputs": [],
   "source": [
    "fig, ax = plt.subplots()\n",
    "\n",
    "\n",
    "ax.scatter(K, alpha, alpha=0.1)"
   ]
  },
  {
   "cell_type": "code",
   "execution_count": null,
   "metadata": {},
   "outputs": [],
   "source": [
    "display_posterior_model_counts(\n",
    "    dl[1], model, samples.T[::20], min_rate=1e-99, shade=False\n",
    ")"
   ]
  },
  {
   "cell_type": "code",
   "execution_count": null,
   "metadata": {},
   "outputs": [],
   "source": [
    "cpl = Cutoff_powerlaw(piv=100,K=1e-1,xc=200)\n",
    "\n",
    "\n",
    "dl = ds.get_data_list_of_interval(2)\n",
    "\n",
    "model = Model(PointSource(\"ps\",0,0, spectral_shape=cpl))\n",
    "\n",
    "ba = JointLikelihood(model,DataList(*dl))"
   ]
  },
  {
   "cell_type": "code",
   "execution_count": null,
   "metadata": {},
   "outputs": [],
   "source": [
    "ba.fit()"
   ]
  },
  {
   "cell_type": "code",
   "execution_count": null,
   "metadata": {},
   "outputs": [],
   "source": [
    "display_spectrum_model_counts(ba)"
   ]
  },
  {
   "cell_type": "code",
   "execution_count": null,
   "metadata": {},
   "outputs": [],
   "source": [
    "dl[0].view_count_spectrum()"
   ]
  },
  {
   "cell_type": "code",
   "execution_count": null,
   "metadata": {},
   "outputs": [],
   "source": [
    "cpl"
   ]
  },
  {
   "cell_type": "code",
   "execution_count": null,
   "metadata": {},
   "outputs": [],
   "source": []
  }
 ],
 "metadata": {
  "kernelspec": {
   "display_name": "Python 3.7.13 ('bachelor')",
   "language": "python",
   "name": "python3"
  },
  "language_info": {
   "codemirror_mode": {
    "name": "ipython",
    "version": 3
   },
   "file_extension": ".py",
   "mimetype": "text/x-python",
   "name": "python",
   "nbconvert_exporter": "python",
   "pygments_lexer": "ipython3",
   "version": "3.7.12"
  },
  "vscode": {
   "interpreter": {
    "hash": "99aaa0f83150ec286212006dbfb7bac7bc05a98855b52c90ce1d0f138f9dd21f"
   }
  },
  "widgets": {
   "application/vnd.jupyter.widget-state+json": {
    "state": {},
    "version_major": 2,
    "version_minor": 0
   }
  }
 },
 "nbformat": 4,
 "nbformat_minor": 4
}
